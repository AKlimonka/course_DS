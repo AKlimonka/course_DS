{
 "cells": [
  {
   "cell_type": "markdown",
   "metadata": {
    "pycharm": {
     "name": "#%% md\n"
    }
   },
   "source": [
    "[![Open In Colab](https://colab.research.google.com/assets/colab-badge.svg)](https://colab.research.google.com/github/ds-reboot/python-first-part/blob/main/notebooks/hometasks/Task3_dmrf_OOP.ipynb)"
   ]
  },
  {
   "cell_type": "markdown",
   "metadata": {
    "pycharm": {
     "name": "#%% md\n"
    }
   },
   "source": [
    "# Задание\n",
    "Реализовать с помощью объектно-ориентированного подхода предыдущие 2 задания. Создайте для каждой из задач отдельный класс, который позволяет ее решить.\n",
    "\n",
    "* Собрать информацию о всех строящихся объектах на сайте \"наш.дом.рф\"\n",
    "* Cохранить ее в pandas dataframe, а также в excel, pickle, БД\n",
    "\n",
    "* Проверить состояние датафрейма и привести его в формат, позволяющий дальнейшее исследование данных\n",
    "\n",
    "*  Сделать визуализацию для мини-исследования рынка строящейся недвижимости в одном или нескольких регионах с помощью pandas, matplotlib, seaborn, plotly и других инструментов.\n",
    "\n"
   ]
  },
  {
   "cell_type": "code",
   "execution_count": 31,
   "metadata": {
    "pycharm": {
     "name": "#%%\n"
    }
   },
   "outputs": [],
   "source": [
    "import requests\n",
    "import pandas as pd\n",
    "import requests\n",
    "pd.set_option('display.max_rows', 30)"
   ]
  },
  {
   "cell_type": "markdown",
   "metadata": {
    "pycharm": {
     "name": "#%% md\n"
    }
   },
   "source": [
    "## Список объектов"
   ]
  },
  {
   "cell_type": "code",
   "execution_count": 2,
   "metadata": {
    "pycharm": {
     "name": "#%%\n"
    }
   },
   "outputs": [],
   "source": [
    "offset_ = 1\n",
    "limit_ = 1000\n",
    "url = f'https://xn--80az8a.xn--d1aqf.xn--p1ai/%D1%81%D0%B5%D1%80%D0%B2%D0%B8%D1%81%D1%8B/api/kn/object?offset={offset_}&limit={limit_}&sortField=devId.devShortCleanNm&sortType=asc&objStatus=0'\n",
    "res = requests.get(url)\n",
    "objects_data = res.json()"
   ]
  },
  {
   "cell_type": "markdown",
   "metadata": {
    "pycharm": {
     "name": "#%% md\n"
    }
   },
   "source": [
    "# Данные по определенному объекту"
   ]
  },
  {
   "cell_type": "code",
   "execution_count": 3,
   "metadata": {
    "pycharm": {
     "name": "#%%\n"
    }
   },
   "outputs": [],
   "source": [
    "url = f'https://xn--80az8a.xn--d1aqf.xn--p1ai/%D1%81%D0%B5%D1%80%D0%B2%D0%B8%D1%81%D1%8B/api/object/36774'"
   ]
  },
  {
   "cell_type": "code",
   "execution_count": 60,
   "metadata": {
    "pycharm": {
     "name": "#%%\n"
    }
   },
   "outputs": [],
   "source": [
    "import requests\n",
    "\n",
    "class DomIdLoader:\n",
    "    '''get_ids выгружает список объектов и их id\n",
    "    show_ids выводит первые n id объектов\n",
    "    objids - список id'''\n",
    "    def __init__(self):\n",
    "        self.offset_ = 0\n",
    "        self.limit_ = 1000\n",
    "        self.url = 'https://xn--80az8a.xn--d1aqf.xn--p1ai/%D1%81%D0%B5%D1%80%D0%B2%D0%B8%D1%81%D1%8B/api/kn/object'\n",
    "        #self.objects_data = None\n",
    "        self.objects_list = []\n",
    "        self.objids = []\n",
    "    \n",
    "    \n",
    "    def get_ids(self):\n",
    "        '''Выгружает список ID объектов - objids и список объектов - objects_list'''\n",
    "        \n",
    "        len_of_list = 1\n",
    "        cnt = 0\n",
    "        while len_of_list > 0:\n",
    "            paramz = {\n",
    "                'offset': self.offset_,\n",
    "                'limit': self.limit_,\n",
    "                'sortField':'devId.devShortCleanNm',\n",
    "                'sortType':'asc',\n",
    "                'objStatus':'0'}\n",
    "            res = requests.get(self.url, params=paramz)\n",
    "            objects_data = res.json()\n",
    "            self.objects_list.extend(objects_data.get('data').get('list'))\n",
    "            len_of_list = len(objects_data.get('data').get('list'))\n",
    "            self.offset_ += self.limit_\n",
    "            cnt += 1\n",
    "            print(f'\\r Загружено {cnt} пакетов', end='' if len_of_list != 0 else pass)\n",
    "        self.objids = [x.get('objId') for x in self.objects_list]\n",
    "        print(f'\\n Загружено {len(self.objids)} записей ')\n",
    "     \n",
    "    def show_ids(self, n = 10):\n",
    "        '''Выводит n = 10(по умолчанию) id объектов'''\n",
    "        print(f\"Первые {n} id объектов: \", self.objids[:n])   "
   ]
  },
  {
   "cell_type": "code",
   "execution_count": 61,
   "metadata": {},
   "outputs": [],
   "source": [
    "x = DomIdLoader()"
   ]
  },
  {
   "cell_type": "code",
   "execution_count": 62,
   "metadata": {},
   "outputs": [
    {
     "name": "stdout",
     "output_type": "stream",
     "text": [
      " Загружено 12 пакетов\n",
      " Загружено 10647 записей \n"
     ]
    }
   ],
   "source": [
    "x.get_ids()"
   ]
  },
  {
   "cell_type": "code",
   "execution_count": 63,
   "metadata": {},
   "outputs": [
    {
     "data": {
      "text/plain": [
       "10647"
      ]
     },
     "execution_count": 63,
     "metadata": {},
     "output_type": "execute_result"
    }
   ],
   "source": [
    "len(x.objids)"
   ]
  },
  {
   "cell_type": "code",
   "execution_count": 64,
   "metadata": {},
   "outputs": [
    {
     "name": "stdout",
     "output_type": "stream",
     "text": [
      "Первые 10 id объектов:  [29679, 13383, 13391, 13397, 13398, 13399, 36912, 44076, 27476, 10891]\n"
     ]
    }
   ],
   "source": [
    "x.show_ids()"
   ]
  },
  {
   "cell_type": "code",
   "execution_count": 65,
   "metadata": {
    "pycharm": {
     "name": "#%%\n"
    }
   },
   "outputs": [],
   "source": [
    "import pandas as pd\n",
    "from tqdm import tqdm\n",
    "import requests\n",
    "\n",
    "class ObjectInfoExtractor:\n",
    "    '''\n",
    "    ids - список ID объектов\n",
    "    detailed_objects_list - json со списком объектов\n",
    "    df - датафрейм с объектами\n",
    "    '''\n",
    "    def __init__(self, ids):\n",
    "        self.ids = ids\n",
    "        self.detailed_objects_list = []\n",
    "        self.df = None\n",
    "    def load_data(self, n=10):\n",
    "        '''Загружает данные по каждому объекту. n - количество объектов для загрузки. По умолчанию 10.'''\n",
    "        \n",
    "        self.detailed_objects_list = []\n",
    "        for id in tqdm(self.ids[:n]):\n",
    "            url = f'https://xn--80az8a.xn--d1aqf.xn--p1ai/%D1%81%D0%B5%D1%80%D0%B2%D0%B8%D1%81%D1%8B/api/object/{id}'\n",
    "            obj_data = requests.get(url).json().get('data')\n",
    "            self.detailed_objects_list.append(obj_data)\n",
    "\n",
    "    def df_converter(self):\n",
    "        '''Преобразует список объектов в DataFrame'''\n",
    "        \n",
    "        self.df = pd.json_normalize(self.detailed_objects_list)"
   ]
  },
  {
   "cell_type": "code",
   "execution_count": 66,
   "metadata": {},
   "outputs": [],
   "source": [
    "objects_detailed = ObjectInfoExtractor(x.objids)"
   ]
  },
  {
   "cell_type": "code",
   "execution_count": 67,
   "metadata": {},
   "outputs": [
    {
     "name": "stderr",
     "output_type": "stream",
     "text": [
      "100%|█████████████████████████████████████| 10647/10647 [33:58<00:00,  5.22it/s]\n"
     ]
    }
   ],
   "source": [
    "objects_detailed.load_data(n=None)"
   ]
  },
  {
   "cell_type": "code",
   "execution_count": 68,
   "metadata": {},
   "outputs": [
    {
     "data": {
      "text/plain": [
       "<bound method ObjectInfoExtractor.df_converter of <__main__.ObjectInfoExtractor object at 0x17cc4cac0>>"
      ]
     },
     "execution_count": 68,
     "metadata": {},
     "output_type": "execute_result"
    }
   ],
   "source": [
    "objects_detailed.df_converter()\n",
    "objects_detailed.df_converter"
   ]
  },
  {
   "cell_type": "code",
   "execution_count": 69,
   "metadata": {
    "pycharm": {
     "name": "#%%\n"
    }
   },
   "outputs": [],
   "source": [
    "import pandas as pd\n",
    "import os\n",
    "import sqlite3\n",
    "\n",
    "class Saver:\n",
    "    def __init__(self, data, directory = './Task_data/', filename = 'domrf'):\n",
    "        self.df = data\n",
    "        self.dir = directory\n",
    "        self.filename = filename\n",
    "        \n",
    "    def save_csv(self):\n",
    "        '''Сохраняет датафрейм в CSV'''\n",
    "        try: \n",
    "            os.mkdir(self.dir)\n",
    "        except:\n",
    "            pass\n",
    "        filename = self.dir + self.filename + '.csv'\n",
    "        self.df.to_csv(filename)\n",
    "\n",
    "    def save_xl(self):\n",
    "        '''Сохраняет датафрейм в Excel'''\n",
    "        try: \n",
    "            os.mkdir(self.dir)\n",
    "        except:\n",
    "            pass\n",
    "        filename = self.dir + self.filename + '.xlsx'\n",
    "        self.df.to_excel(filename)\n",
    "        \n",
    "    def save_pkl(self):\n",
    "        try: \n",
    "            os.mkdir(self.dir)\n",
    "        except:\n",
    "            pass\n",
    "        filename = self.dir + self.filename + '.pkl'\n",
    "        self.df.to_pickle(filename)   \n",
    "        \n",
    "        \n",
    "    def save_sql(self):\n",
    "        '''Сохраняет датафрейм в SQL'''\n",
    "        try: \n",
    "            os.mkdir(self.dir)\n",
    "        except:\n",
    "             pass\n",
    "       \n",
    "        try:\n",
    "            for index in self.df.dtypes[self.df.dtypes == object].index:\n",
    "                self.df[index] = self.df[index].astype(str)\n",
    "            self.df = self.df.drop('photoRenderDTO', axis=1)\n",
    "            self.df = self.df.dropna(axis=1, thresh=2)\n",
    "            filename = self.dir + self.filename\n",
    "            conn = sqlite3.connect('./Task_data/database')\n",
    "            self.df.to_sql('DOMRF_DETAILED', conn, if_exists='replace', index = False);\n",
    "            conn.commit()\n",
    "        except:\n",
    "            print('Ошибка при сохранении в БД')\n",
    "#             pass\n",
    "#         finally: #почему-то эксепшены кидает, если закрывать через finally\n",
    "#             conn.close()\n",
    "        conn.close()\n"
   ]
  },
  {
   "cell_type": "code",
   "execution_count": 81,
   "metadata": {},
   "outputs": [
    {
     "name": "stdout",
     "output_type": "stream",
     "text": [
      "database    domrf.csv   domrf.pkl   domrf.xlsx\r\n"
     ]
    }
   ],
   "source": [
    "saver_df = Saver(objects_detailed.df)\n",
    "saver_df.save_csv()\n",
    "saver_df.save_sql()\n",
    "saver_df.save_xl()\n",
    "saver_df.save_pkl()\n",
    "%ls ./Task_data/"
   ]
  },
  {
   "cell_type": "code",
   "execution_count": 91,
   "metadata": {},
   "outputs": [],
   "source": [
    "import seaborn as sns\n",
    "import matplotlib.pyplot as plt\n",
    "import plotly.express as px\n",
    "\n",
    "class Visualizer:\n",
    "    \n",
    "    def __init__(self,data):\n",
    "        self.df = data\n",
    "        \n",
    "    def make_boxplot(self, region = 77):\n",
    "        '''Выводит интерактивный boxplot распределения цен по классам недвижимости по заданному региону'''\n",
    "        self.df_for_region = self.df[['region', 'objFlatCnt', 'objElemParkingCnt', 'objFloorCnt', \n",
    "                                     'objSquareLiving','objPriceAvg','objLkClassDesc']][(self.df['region'] == region)\n",
    "                                                                      &(self.df['objFlatCnt'] != 0) \n",
    "                                                                      & (self.df['objSquareLiving'] != 0)]\n",
    "        fig = px.box(x=\"objLkClassDesc\", y=\"objPriceAvg\", data_frame=self.df_for_region, \n",
    "             title=f'Распределение стоимости квадратного метра по классам недвижимости для региона {region}', \n",
    "                     color=\"objLkClassDesc\",\n",
    "            labels={'objLkClassDesc':'Класс недвижимости', 'objPriceAvg':'Средняя цена за квадратный метр'})\n",
    "        fig.show()\n",
    "\n",
    "    def make_heatmap(self,region = 77):\n",
    "        '''\n",
    "        Выводит тепловую карту по заданному региону\n",
    "        '''\n",
    "        self.df_for_region = self.df[['region', 'objFlatCnt', 'objElemParkingCnt', 'objFloorCnt', \n",
    "                                     'objSquareLiving','objPriceAvg']][(self.df['region'] == region)\n",
    "                                                                      &(self.df['objFlatCnt'] != 0) \n",
    "                                                                      & (self.df['objSquareLiving'] != 0)]\n",
    "        self.df_corr_for_region = self.df_for_region.drop('region', axis = 1).corr()\n",
    "        sns.heatmap(self.df_corr_for_region, cmap='coolwarm')\n",
    "        plt.title(f'Тепловая карта корреляций для региона {region}')\n",
    "        plt.show()"
   ]
  },
  {
   "cell_type": "code",
   "execution_count": null,
   "metadata": {
    "pycharm": {
     "name": "#%%\n"
    }
   },
   "outputs": [],
   "source": []
  },
  {
   "cell_type": "code",
   "execution_count": 92,
   "metadata": {},
   "outputs": [
    {
     "data": {
      "image/png": "[encoded data removed]",
      "text/plain": [
       "<Figure size 432x288 with 2 Axes>"
      ]
     },
     "metadata": {
      "needs_background": "light"
     },
     "output_type": "display_data"
    }
   ],
   "source": [
    "viz = Visualizer(objects_detailed.df)\n",
    "viz.make_heatmap(77)"
   ]
  },
  {
   "cell_type": "code",
   "execution_count": 93,
   "metadata": {},
   "outputs": [
    {
     "data": {
      "application/vnd.plotly.v1+json": {
       "config": {
        "plotlyServerURL": "https://plot.ly"
       },
       "data": [
        {
         "alignmentgroup": "True",
         "hovertemplate": "Класс недвижимости=%{x}<br>Средняя цена за квадратный метр=%{y}<extra></extra>",
         "legendgroup": "Комфорт",
         "marker": {
          "color": "#636efa"
         },
         "name": "Комфорт",
         "notched": false,
         "offsetgroup": "Комфорт",
         "orientation": "v",
         "showlegend": true,
         "type": "box",
         "x": [
          "Комфорт",
          "Комфорт",
          "Комфорт",
          "Комфорт",
          "Комфорт",
          "Комфорт",
          "Комфорт",
          "Комфорт",
          "Комфорт",
          "Комфорт",
          "Комфорт",
          "Комфорт",
          "Комфорт",
          "Комфорт",
          "Комфорт",
          "Комфорт",
          "Комфорт",
          "Комфорт",
          "Комфорт",
          "Комфорт",
          "Комфорт",
          "Комфорт",
          "Комфорт",
          "Комфорт",
          "Комфорт",
          "Комфорт",
          "Комфорт",
          "Комфорт",
          "Комфорт",
          "Комфорт",
          "Комфорт",
          "Комфорт",
          "Комфорт",
          "Комфорт",
          "Комфорт",
          "Комфорт",
          "Комфорт",
          "Комфорт",
          "Комфорт",
          "Комфорт",
          "Комфорт",
          "Комфорт",
          "Комфорт",
          "Комфорт",
          "Комфорт",
          "Комфорт",
          "Комфорт",
          "Комфорт",
          "Комфорт",
          "Комфорт",
          "Комфорт",
          "Комфорт",
          "Комфорт",
          "Комфорт",
          "Комфорт",
          "Комфорт",
          "Комфорт",
          "Комфорт",
          "Комфорт",
          "Комфорт",
          "Комфорт",
          "Комфорт",
          "Комфорт",
          "Комфорт",
          "Комфорт",
          "Комфорт",
          "Комфорт",
          "Комфорт",
          "Комфорт",
          "Комфорт",
          "Комфорт",
          "Комфорт",
          "Комфорт",
          "Комфорт",
          "Комфорт",
          "Комфорт",
          "Комфорт",
          "Комфорт",
          "Комфорт",
          "Комфорт",
          "Комфорт",
          "Комфорт",
          "Комфорт",
          "Комфорт",
          "Комфорт",
          "Комфорт",
          "Комфорт",
          "Комфорт",
          "Комфорт",
          "Комфорт",
          "Комфорт",
          "Комфорт",
          "Комфорт",
          "Комфорт",
          "Комфорт",
          "Комфорт",
          "Комфорт",
          "Комфорт",
          "Комфорт",
          "Комфорт",
          "Комфорт",
          "Комфорт",
          "Комфорт",
          "Комфорт",
          "Комфорт",
          "Комфорт",
          "Комфорт",
          "Комфорт",
          "Комфорт",
          "Комфорт",
          "Комфорт",
          "Комфорт",
          "Комфорт",
          "Комфорт",
          "Комфорт",
          "Комфорт",
          "Комфорт",
          "Комфорт",
          "Комфорт",
          "Комфорт",
          "Комфорт",
          "Комфорт",
          "Комфорт",
          "Комфорт",
          "Комфорт",
          "Комфорт",
          "Комфорт",
          "Комфорт",
          "Комфорт",
          "Комфорт",
          "Комфорт",
          "Комфорт",
          "Комфорт",
          "Комфорт",
          "Комфорт",
          "Комфорт",
          "Комфорт",
          "Комфорт",
          "Комфорт",
          "Комфорт",
          "Комфорт",
          "Комфорт",
          "Комфорт",
          "Комфорт",
          "Комфорт",
          "Комфорт",
          "Комфорт",
          "Комфорт",
          "Комфорт",
          "Комфорт",
          "Комфорт",
          "Комфорт"
         ],
         "x0": " ",
         "xaxis": "x",
         "y": [
          203155,
          118000,
          75081,
          118000,
          116996,
          117000,
          118000,
          290326,
          211488,
          141374,
          148188,
          92507,
          null,
          235073,
          null,
          null,
          null,
          268548,
          270334,
          230189,
          219896,
          221074,
          174620,
          274030,
          251994,
          284207,
          170459,
          190148,
          213619,
          253929,
          279770,
          null,
          null,
          277572,
          197199,
          207244,
          180986,
          271262,
          36675,
          297382,
          322690,
          230168,
          null,
          null,
          null,
          null,
          null,
          247217,
          295530,
          222106,
          285196,
          230002,
          307295,
          null,
          null,
          281218,
          292534,
          265949,
          291205,
          90000,
          210369,
          208087,
          244929,
          206740,
          181297,
          144456,
          182352,
          215640,
          null,
          34982,
          35000,
          35000,
          65922,
          64542,
          79114,
          96017,
          null,
          176803,
          null,
          null,
          170297,
          65417,
          208929,
          null,
          173033,
          null,
          185424,
          null,
          null,
          null,
          null,
          193968,
          261500,
          268688,
          174379,
          265413,
          228705,
          195733,
          null,
          100280,
          228687,
          204669,
          189126,
          null,
          196299,
          158930,
          179164,
          178716,
          188337,
          254936,
          280880,
          285549,
          200635,
          284243,
          169302,
          211084,
          183589,
          170000,
          157517,
          163982,
          245470,
          293652,
          258279,
          256752,
          276192,
          233122,
          223229,
          null,
          187393,
          245121,
          284225,
          279839,
          91670,
          292320,
          325144,
          85730,
          92889,
          98567,
          107888,
          208087,
          219936,
          204854,
          142744,
          175968,
          153649,
          144882,
          null,
          null,
          null,
          null,
          null,
          null
         ],
         "y0": " ",
         "yaxis": "y"
        },
        {
         "alignmentgroup": "True",
         "hovertemplate": "Класс недвижимости=%{x}<br>Средняя цена за квадратный метр=%{y}<extra></extra>",
         "legendgroup": "Бизнес",
         "marker": {
          "color": "#EF553B"
         },
         "name": "Бизнес",
         "notched": false,
         "offsetgroup": "Бизнес",
         "orientation": "v",
         "showlegend": true,
         "type": "box",
         "x": [
          "Бизнес",
          "Бизнес",
          "Бизнес",
          "Бизнес",
          "Бизнес",
          "Бизнес",
          "Бизнес",
          "Бизнес",
          "Бизнес",
          "Бизнес",
          "Бизнес",
          "Бизнес",
          "Бизнес",
          "Бизнес",
          "Бизнес",
          "Бизнес",
          "Бизнес",
          "Бизнес",
          "Бизнес",
          "Бизнес",
          "Бизнес",
          "Бизнес",
          "Бизнес",
          "Бизнес",
          "Бизнес",
          "Бизнес",
          "Бизнес",
          "Бизнес",
          "Бизнес",
          "Бизнес",
          "Бизнес",
          "Бизнес",
          "Бизнес",
          "Бизнес",
          "Бизнес",
          "Бизнес",
          "Бизнес",
          "Бизнес",
          "Бизнес",
          "Бизнес",
          "Бизнес",
          "Бизнес",
          "Бизнес",
          "Бизнес",
          "Бизнес",
          "Бизнес",
          "Бизнес",
          "Бизнес",
          "Бизнес",
          "Бизнес",
          "Бизнес",
          "Бизнес",
          "Бизнес",
          "Бизнес",
          "Бизнес",
          "Бизнес",
          "Бизнес",
          "Бизнес",
          "Бизнес",
          "Бизнес",
          "Бизнес",
          "Бизнес",
          "Бизнес",
          "Бизнес",
          "Бизнес",
          "Бизнес",
          "Бизнес",
          "Бизнес",
          "Бизнес",
          "Бизнес",
          "Бизнес",
          "Бизнес",
          "Бизнес",
          "Бизнес",
          "Бизнес",
          "Бизнес",
          "Бизнес",
          "Бизнес",
          "Бизнес",
          "Бизнес",
          "Бизнес",
          "Бизнес",
          "Бизнес",
          "Бизнес",
          "Бизнес",
          "Бизнес",
          "Бизнес",
          "Бизнес",
          "Бизнес",
          "Бизнес",
          "Бизнес",
          "Бизнес",
          "Бизнес",
          "Бизнес",
          "Бизнес",
          "Бизнес",
          "Бизнес",
          "Бизнес",
          "Бизнес",
          "Бизнес",
          "Бизнес",
          "Бизнес",
          "Бизнес",
          "Бизнес",
          "Бизнес",
          "Бизнес",
          "Бизнес",
          "Бизнес",
          "Бизнес",
          "Бизнес",
          "Бизнес",
          "Бизнес",
          "Бизнес",
          "Бизнес",
          "Бизнес",
          "Бизнес",
          "Бизнес",
          "Бизнес",
          "Бизнес",
          "Бизнес",
          "Бизнес",
          "Бизнес",
          "Бизнес",
          "Бизнес",
          "Бизнес",
          "Бизнес",
          "Бизнес",
          "Бизнес",
          "Бизнес",
          "Бизнес",
          "Бизнес",
          "Бизнес",
          "Бизнес",
          "Бизнес",
          "Бизнес",
          "Бизнес",
          "Бизнес",
          "Бизнес",
          "Бизнес",
          "Бизнес",
          "Бизнес",
          "Бизнес",
          "Бизнес",
          "Бизнес",
          "Бизнес",
          "Бизнес",
          "Бизнес",
          "Бизнес",
          "Бизнес",
          "Бизнес",
          "Бизнес",
          "Бизнес",
          "Бизнес",
          "Бизнес",
          "Бизнес",
          "Бизнес",
          "Бизнес",
          "Бизнес",
          "Бизнес",
          "Бизнес",
          "Бизнес",
          "Бизнес",
          "Бизнес",
          "Бизнес",
          "Бизнес",
          "Бизнес",
          "Бизнес",
          "Бизнес",
          "Бизнес",
          "Бизнес",
          "Бизнес",
          "Бизнес",
          "Бизнес",
          "Бизнес",
          "Бизнес",
          "Бизнес",
          "Бизнес",
          "Бизнес",
          "Бизнес",
          "Бизнес",
          "Бизнес",
          "Бизнес",
          "Бизнес",
          "Бизнес",
          "Бизнес",
          "Бизнес",
          "Бизнес",
          "Бизнес",
          "Бизнес",
          "Бизнес",
          "Бизнес",
          "Бизнес",
          "Бизнес",
          "Бизнес",
          "Бизнес",
          "Бизнес",
          "Бизнес",
          "Бизнес",
          "Бизнес",
          "Бизнес",
          "Бизнес",
          "Бизнес",
          "Бизнес",
          "Бизнес",
          "Бизнес",
          "Бизнес",
          "Бизнес",
          "Бизнес",
          "Бизнес"
         ],
         "x0": " ",
         "xaxis": "x",
         "y": [
          207678,
          325203,
          205431,
          235970,
          217534,
          230480,
          216169,
          217043,
          217499,
          219514,
          434664,
          159041,
          306559,
          null,
          299624,
          336410,
          343750,
          319976,
          259197,
          235735,
          175000,
          296293,
          185381,
          null,
          null,
          236840,
          323465,
          205532,
          252244,
          233922,
          294815,
          null,
          357396,
          395510,
          293975,
          322216,
          317158,
          349248,
          345680,
          346242,
          361942,
          null,
          228906,
          343769,
          434968,
          253320,
          363112,
          320221,
          243428,
          242466,
          234920,
          212769,
          176835,
          321989,
          null,
          321495,
          447085,
          358119,
          378770,
          332783,
          316414,
          365785,
          312136,
          340000,
          null,
          391416,
          359988,
          354102,
          370565,
          395612,
          null,
          375193,
          null,
          null,
          null,
          null,
          null,
          265485,
          456183,
          471844,
          303922,
          380994,
          442607,
          525441,
          425750,
          323327,
          386264,
          268620,
          264215,
          380495,
          403778,
          388238,
          329934,
          333946,
          294168,
          405380,
          223296,
          346495,
          273706,
          301154,
          324689,
          361634,
          340145,
          227600,
          321931,
          286013,
          282357,
          327436,
          286587,
          386134,
          384540,
          406466,
          249004,
          243129,
          260727,
          335379,
          404532,
          244403,
          313565,
          352432,
          388570,
          413353,
          406069,
          294798,
          321366,
          359036,
          337226,
          230613,
          345272,
          356407,
          389273,
          265070,
          305820,
          385715,
          314613,
          307874,
          300000,
          376561,
          null,
          403709,
          407833,
          null,
          434748,
          null,
          437862,
          368517,
          376641,
          434535,
          356625,
          358093,
          360304,
          411529,
          365500,
          379784,
          456648,
          397832,
          null,
          null,
          469791,
          424828,
          380954,
          null,
          360588,
          360087,
          390907,
          394257,
          185836,
          177306,
          195188,
          232677,
          306201,
          332578,
          347038,
          242794,
          289163,
          364679,
          357453,
          268585,
          302051,
          304494,
          243609,
          211610,
          null,
          null,
          null,
          null,
          474242,
          315110,
          295522,
          368914,
          376427,
          303763,
          459949,
          280603,
          412331,
          333451,
          317568,
          315886,
          263753,
          388425,
          519232,
          263386,
          466286,
          256918,
          189700,
          185000,
          171200,
          326388,
          181000
         ],
         "y0": " ",
         "yaxis": "y"
        },
        {
         "alignmentgroup": "True",
         "hovertemplate": "Класс недвижимости=%{x}<br>Средняя цена за квадратный метр=%{y}<extra></extra>",
         "legendgroup": "Типовой",
         "marker": {
          "color": "#00cc96"
         },
         "name": "Типовой",
         "notched": false,
         "offsetgroup": "Типовой",
         "orientation": "v",
         "showlegend": true,
         "type": "box",
         "x": [
          "Типовой",
          "Типовой",
          "Типовой",
          "Типовой",
          "Типовой",
          "Типовой",
          "Типовой",
          "Типовой",
          "Типовой",
          "Типовой",
          "Типовой",
          "Типовой",
          "Типовой",
          "Типовой",
          "Типовой",
          "Типовой",
          "Типовой",
          "Типовой",
          "Типовой",
          "Типовой",
          "Типовой",
          "Типовой",
          "Типовой",
          "Типовой",
          "Типовой",
          "Типовой",
          "Типовой",
          "Типовой",
          "Типовой",
          "Типовой",
          "Типовой",
          "Типовой",
          "Типовой",
          "Типовой",
          "Типовой",
          "Типовой",
          "Типовой",
          "Типовой",
          "Типовой",
          "Типовой",
          "Типовой",
          "Типовой",
          "Типовой",
          "Типовой",
          "Типовой",
          "Типовой",
          "Типовой",
          "Типовой",
          "Типовой",
          "Типовой",
          "Типовой",
          "Типовой",
          "Типовой",
          "Типовой",
          "Типовой",
          "Типовой",
          "Типовой",
          "Типовой",
          "Типовой",
          "Типовой",
          "Типовой",
          "Типовой",
          "Типовой",
          "Типовой",
          "Типовой",
          "Типовой",
          "Типовой",
          "Типовой",
          "Типовой",
          "Типовой",
          "Типовой",
          "Типовой",
          "Типовой",
          "Типовой",
          "Типовой",
          "Типовой",
          "Типовой",
          "Типовой",
          "Типовой",
          "Типовой",
          "Типовой",
          "Типовой",
          "Типовой",
          "Типовой",
          "Типовой",
          "Типовой",
          "Типовой",
          "Типовой",
          "Типовой",
          "Типовой",
          "Типовой",
          "Типовой",
          "Типовой",
          "Типовой",
          "Типовой",
          "Типовой",
          "Типовой",
          "Типовой",
          "Типовой",
          "Типовой",
          "Типовой",
          "Типовой",
          "Типовой",
          "Типовой",
          "Типовой",
          "Типовой",
          "Типовой",
          "Типовой",
          "Типовой",
          "Типовой",
          "Типовой",
          "Типовой",
          "Типовой",
          "Типовой",
          "Типовой",
          "Типовой",
          "Типовой",
          "Типовой",
          "Типовой",
          "Типовой",
          "Типовой",
          "Типовой",
          "Типовой",
          "Типовой",
          "Типовой",
          "Типовой",
          "Типовой",
          "Типовой",
          "Типовой",
          "Типовой",
          "Типовой",
          "Типовой",
          "Типовой",
          "Типовой",
          "Типовой",
          "Типовой",
          "Типовой",
          "Типовой",
          "Типовой",
          "Типовой",
          "Типовой",
          "Типовой",
          "Типовой",
          "Типовой",
          "Типовой",
          "Типовой",
          "Типовой",
          "Типовой",
          "Типовой",
          "Типовой",
          "Типовой",
          "Типовой",
          "Типовой",
          "Типовой",
          "Типовой",
          "Типовой",
          "Типовой",
          "Типовой",
          "Типовой",
          "Типовой",
          "Типовой",
          "Типовой",
          "Типовой",
          "Типовой",
          "Типовой",
          "Типовой",
          "Типовой",
          "Типовой",
          "Типовой",
          "Типовой",
          "Типовой",
          "Типовой",
          "Типовой",
          "Типовой",
          "Типовой",
          "Типовой",
          "Типовой",
          "Типовой",
          "Типовой",
          "Типовой",
          "Типовой",
          "Типовой",
          "Типовой",
          "Типовой",
          "Типовой",
          "Типовой",
          "Типовой",
          "Типовой",
          "Типовой",
          "Типовой",
          "Типовой",
          "Типовой",
          "Типовой",
          "Типовой",
          "Типовой",
          "Типовой",
          "Типовой",
          "Типовой",
          "Типовой",
          "Типовой",
          "Типовой",
          "Типовой",
          "Типовой",
          "Типовой",
          "Типовой",
          "Типовой",
          "Типовой",
          "Типовой",
          "Типовой",
          "Типовой",
          "Типовой",
          "Типовой",
          "Типовой",
          "Типовой",
          "Типовой",
          "Типовой",
          "Типовой",
          "Типовой",
          "Типовой",
          "Типовой",
          "Типовой",
          "Типовой",
          "Типовой",
          "Типовой",
          "Типовой",
          "Типовой",
          "Типовой",
          "Типовой",
          "Типовой",
          "Типовой",
          "Типовой",
          "Типовой",
          "Типовой",
          "Типовой",
          "Типовой",
          "Типовой",
          "Типовой",
          "Типовой",
          "Типовой",
          "Типовой",
          "Типовой",
          "Типовой",
          "Типовой",
          "Типовой",
          "Типовой",
          "Типовой",
          "Типовой",
          "Типовой",
          "Типовой",
          "Типовой",
          "Типовой",
          "Типовой",
          "Типовой",
          "Типовой",
          "Типовой",
          "Типовой",
          "Типовой",
          "Типовой",
          "Типовой",
          "Типовой",
          "Типовой",
          "Типовой",
          "Типовой",
          "Типовой",
          "Типовой",
          "Типовой",
          "Типовой",
          "Типовой",
          "Типовой",
          "Типовой",
          "Типовой",
          "Типовой",
          "Типовой",
          "Типовой",
          "Типовой",
          "Типовой",
          "Типовой",
          "Типовой",
          "Типовой",
          "Типовой",
          "Типовой",
          "Типовой",
          "Типовой",
          "Типовой",
          "Типовой",
          "Типовой",
          "Типовой",
          "Типовой",
          "Типовой",
          "Типовой",
          "Типовой",
          "Типовой",
          "Типовой",
          "Типовой",
          "Типовой",
          "Типовой",
          "Типовой",
          "Типовой",
          "Типовой"
         ],
         "x0": " ",
         "xaxis": "x",
         "y": [
          null,
          null,
          null,
          null,
          null,
          null,
          null,
          null,
          null,
          null,
          null,
          null,
          null,
          null,
          null,
          null,
          null,
          null,
          null,
          null,
          null,
          null,
          null,
          null,
          null,
          null,
          null,
          null,
          null,
          null,
          null,
          null,
          null,
          null,
          null,
          null,
          null,
          null,
          null,
          null,
          null,
          null,
          null,
          null,
          null,
          null,
          null,
          null,
          null,
          null,
          null,
          null,
          null,
          null,
          null,
          null,
          null,
          null,
          null,
          null,
          null,
          null,
          null,
          null,
          null,
          null,
          null,
          null,
          null,
          null,
          null,
          null,
          null,
          null,
          null,
          null,
          null,
          null,
          null,
          null,
          null,
          null,
          null,
          null,
          null,
          null,
          null,
          null,
          null,
          null,
          null,
          null,
          null,
          null,
          null,
          null,
          null,
          null,
          null,
          null,
          null,
          null,
          null,
          null,
          null,
          null,
          null,
          null,
          null,
          null,
          254428,
          120804,
          120352,
          120784,
          182406,
          228738,
          216580,
          120300,
          203841,
          198403,
          303373,
          213254,
          247254,
          214389,
          222252,
          187818,
          null,
          202422,
          247343,
          214258,
          190317,
          190923,
          186554,
          197339,
          40330,
          244575,
          233750,
          236525,
          228487,
          300889,
          282456,
          244033,
          null,
          null,
          205121,
          252913,
          248959,
          228264,
          195627,
          240736,
          null,
          258897,
          null,
          252447,
          254755,
          189367,
          187870,
          205722,
          202771,
          258475,
          314391,
          321675,
          209279,
          193986,
          224304,
          170098,
          218143,
          223958,
          295000,
          287178,
          327756,
          264012,
          213303,
          null,
          229651,
          280104,
          298248,
          229325,
          257078,
          265930,
          275480,
          null,
          201300,
          259903,
          257671,
          201300,
          254965,
          214844,
          255690,
          286296,
          null,
          null,
          256144,
          269617,
          149192,
          228271,
          203627,
          203014,
          193667,
          215587,
          221620,
          264738,
          247898,
          251128,
          274295,
          234545,
          259453,
          230313,
          233137,
          null,
          null,
          236265,
          309788,
          287250,
          244159,
          333242,
          294912,
          null,
          223643,
          216143,
          271395,
          226084,
          209525,
          177125,
          203116,
          202064,
          218892,
          222996,
          167818,
          184327,
          207180,
          174656,
          209006,
          169582,
          200000,
          162311,
          202574,
          200000,
          186576,
          176257,
          203019,
          180340,
          231963,
          224036,
          166794,
          197152,
          null,
          156431,
          169394,
          168048,
          165797,
          185602,
          209961,
          197720,
          235218,
          null,
          null,
          212522,
          197091,
          231224,
          200151,
          91670,
          288929,
          291620,
          270978,
          233121,
          209353,
          275119,
          298146,
          318979,
          188326,
          186875,
          184052,
          214396,
          210167,
          207387,
          227457,
          242143,
          244058,
          233019,
          211689,
          234352,
          254268,
          249107,
          255000,
          257315,
          250302,
          225342,
          259967,
          275746,
          294395,
          null,
          298034,
          288586,
          289315,
          305587,
          320298,
          208163,
          249097
         ],
         "y0": " ",
         "yaxis": "y"
        },
        {
         "alignmentgroup": "True",
         "hovertemplate": "Класс недвижимости=%{x}<br>Средняя цена за квадратный метр=%{y}<extra></extra>",
         "legendgroup": "Элитный",
         "marker": {
          "color": "#ab63fa"
         },
         "name": "Элитный",
         "notched": false,
         "offsetgroup": "Элитный",
         "orientation": "v",
         "showlegend": true,
         "type": "box",
         "x": [
          "Элитный",
          "Элитный",
          "Элитный",
          "Элитный",
          "Элитный",
          "Элитный",
          "Элитный",
          "Элитный",
          "Элитный",
          "Элитный",
          "Элитный",
          "Элитный",
          "Элитный",
          "Элитный",
          "Элитный",
          "Элитный",
          "Элитный",
          "Элитный",
          "Элитный",
          "Элитный",
          "Элитный",
          "Элитный",
          "Элитный",
          "Элитный",
          "Элитный",
          "Элитный",
          "Элитный",
          "Элитный",
          "Элитный",
          "Элитный",
          "Элитный",
          "Элитный",
          "Элитный",
          "Элитный",
          "Элитный",
          "Элитный",
          "Элитный",
          "Элитный",
          "Элитный",
          "Элитный",
          "Элитный",
          "Элитный",
          "Элитный",
          "Элитный",
          "Элитный",
          "Элитный",
          "Элитный",
          "Элитный",
          "Элитный",
          "Элитный",
          "Элитный",
          "Элитный",
          "Элитный",
          "Элитный",
          "Элитный",
          "Элитный",
          "Элитный",
          "Элитный",
          "Элитный",
          "Элитный",
          "Элитный",
          "Элитный",
          "Элитный",
          "Элитный",
          "Элитный",
          "Элитный",
          "Элитный"
         ],
         "x0": " ",
         "xaxis": "x",
         "y": [
          544493,
          null,
          1581363,
          799574,
          2566412,
          432980,
          434690,
          386747,
          1228675,
          119475,
          1017003,
          null,
          null,
          null,
          894915,
          null,
          432673,
          418350,
          450000,
          450000,
          450000,
          522203,
          538132,
          372962,
          434575,
          440969,
          459272,
          925222,
          468000,
          660308,
          1027032,
          588668,
          308087,
          120000,
          567649,
          531730,
          629310,
          614444,
          615714,
          445572,
          381331,
          1598926,
          680741,
          null,
          1702937,
          null,
          null,
          394842,
          364366,
          406361,
          374217,
          320753,
          640359,
          null,
          489590,
          466944,
          555861,
          463113,
          593294,
          620010,
          1358174,
          320202,
          1887893,
          736000,
          700306,
          434396,
          1170626
         ],
         "y0": " ",
         "yaxis": "y"
        }
       ],
       "layout": {
        "boxmode": "overlay",
        "legend": {
         "title": {
          "text": "Класс недвижимости"
         },
         "tracegroupgap": 0
        },
        "template": {
         "data": {
          "bar": [
           {
            "error_x": {
             "color": "#2a3f5f"
            },
            "error_y": {
             "color": "#2a3f5f"
            },
            "marker": {
             "line": {
              "color": "#E5ECF6",
              "width": 0.5
             },
             "pattern": {
              "fillmode": "overlay",
              "size": 10,
              "solidity": 0.2
             }
            },
            "type": "bar"
           }
          ],
          "barpolar": [
           {
            "marker": {
             "line": {
              "color": "#E5ECF6",
              "width": 0.5
             },
             "pattern": {
              "fillmode": "overlay",
              "size": 10,
              "solidity": 0.2
             }
            },
            "type": "barpolar"
           }
          ],
          "carpet": [
           {
            "aaxis": {
             "endlinecolor": "#2a3f5f",
             "gridcolor": "white",
             "linecolor": "white",
             "minorgridcolor": "white",
             "startlinecolor": "#2a3f5f"
            },
            "baxis": {
             "endlinecolor": "#2a3f5f",
             "gridcolor": "white",
             "linecolor": "white",
             "minorgridcolor": "white",
             "startlinecolor": "#2a3f5f"
            },
            "type": "carpet"
           }
          ],
          "choropleth": [
           {
            "colorbar": {
             "outlinewidth": 0,
             "ticks": ""
            },
            "type": "choropleth"
           }
          ],
          "contour": [
           {
            "colorbar": {
             "outlinewidth": 0,
             "ticks": ""
            },
            "colorscale": [
             [
              0,
              "#0d0887"
             ],
             [
              0.1111111111111111,
              "#46039f"
             ],
             [
              0.2222222222222222,
              "#7201a8"
             ],
             [
              0.3333333333333333,
              "#9c179e"
             ],
             [
              0.4444444444444444,
              "#bd3786"
             ],
             [
              0.5555555555555556,
              "#d8576b"
             ],
             [
              0.6666666666666666,
              "#ed7953"
             ],
             [
              0.7777777777777778,
              "#fb9f3a"
             ],
             [
              0.8888888888888888,
              "#fdca26"
             ],
             [
              1,
              "#f0f921"
             ]
            ],
            "type": "contour"
           }
          ],
          "contourcarpet": [
           {
            "colorbar": {
             "outlinewidth": 0,
             "ticks": ""
            },
            "type": "contourcarpet"
           }
          ],
          "heatmap": [
           {
            "colorbar": {
             "outlinewidth": 0,
             "ticks": ""
            },
            "colorscale": [
             [
              0,
              "#0d0887"
             ],
             [
              0.1111111111111111,
              "#46039f"
             ],
             [
              0.2222222222222222,
              "#7201a8"
             ],
             [
              0.3333333333333333,
              "#9c179e"
             ],
             [
              0.4444444444444444,
              "#bd3786"
             ],
             [
              0.5555555555555556,
              "#d8576b"
             ],
             [
              0.6666666666666666,
              "#ed7953"
             ],
             [
              0.7777777777777778,
              "#fb9f3a"
             ],
             [
              0.8888888888888888,
              "#fdca26"
             ],
             [
              1,
              "#f0f921"
             ]
            ],
            "type": "heatmap"
           }
          ],
          "heatmapgl": [
           {
            "colorbar": {
             "outlinewidth": 0,
             "ticks": ""
            },
            "colorscale": [
             [
              0,
              "#0d0887"
             ],
             [
              0.1111111111111111,
              "#46039f"
             ],
             [
              0.2222222222222222,
              "#7201a8"
             ],
             [
              0.3333333333333333,
              "#9c179e"
             ],
             [
              0.4444444444444444,
              "#bd3786"
             ],
             [
              0.5555555555555556,
              "#d8576b"
             ],
             [
              0.6666666666666666,
              "#ed7953"
             ],
             [
              0.7777777777777778,
              "#fb9f3a"
             ],
             [
              0.8888888888888888,
              "#fdca26"
             ],
             [
              1,
              "#f0f921"
             ]
            ],
            "type": "heatmapgl"
           }
          ],
          "histogram": [
           {
            "marker": {
             "pattern": {
              "fillmode": "overlay",
              "size": 10,
              "solidity": 0.2
             }
            },
            "type": "histogram"
           }
          ],
          "histogram2d": [
           {
            "colorbar": {
             "outlinewidth": 0,
             "ticks": ""
            },
            "colorscale": [
             [
              0,
              "#0d0887"
             ],
             [
              0.1111111111111111,
              "#46039f"
             ],
             [
              0.2222222222222222,
              "#7201a8"
             ],
             [
              0.3333333333333333,
              "#9c179e"
             ],
             [
              0.4444444444444444,
              "#bd3786"
             ],
             [
              0.5555555555555556,
              "#d8576b"
             ],
             [
              0.6666666666666666,
              "#ed7953"
             ],
             [
              0.7777777777777778,
              "#fb9f3a"
             ],
             [
              0.8888888888888888,
              "#fdca26"
             ],
             [
              1,
              "#f0f921"
             ]
            ],
            "type": "histogram2d"
           }
          ],
          "histogram2dcontour": [
           {
            "colorbar": {
             "outlinewidth": 0,
             "ticks": ""
            },
            "colorscale": [
             [
              0,
              "#0d0887"
             ],
             [
              0.1111111111111111,
              "#46039f"
             ],
             [
              0.2222222222222222,
              "#7201a8"
             ],
             [
              0.3333333333333333,
              "#9c179e"
             ],
             [
              0.4444444444444444,
              "#bd3786"
             ],
             [
              0.5555555555555556,
              "#d8576b"
             ],
             [
              0.6666666666666666,
              "#ed7953"
             ],
             [
              0.7777777777777778,
              "#fb9f3a"
             ],
             [
              0.8888888888888888,
              "#fdca26"
             ],
             [
              1,
              "#f0f921"
             ]
            ],
            "type": "histogram2dcontour"
           }
          ],
          "mesh3d": [
           {
            "colorbar": {
             "outlinewidth": 0,
             "ticks": ""
            },
            "type": "mesh3d"
           }
          ],
          "parcoords": [
           {
            "line": {
             "colorbar": {
              "outlinewidth": 0,
              "ticks": ""
             }
            },
            "type": "parcoords"
           }
          ],
          "pie": [
           {
            "automargin": true,
            "type": "pie"
           }
          ],
          "scatter": [
           {
            "fillpattern": {
             "fillmode": "overlay",
             "size": 10,
             "solidity": 0.2
            },
            "type": "scatter"
           }
          ],
          "scatter3d": [
           {
            "line": {
             "colorbar": {
              "outlinewidth": 0,
              "ticks": ""
             }
            },
            "marker": {
             "colorbar": {
              "outlinewidth": 0,
              "ticks": ""
             }
            },
            "type": "scatter3d"
           }
          ],
          "scattercarpet": [
           {
            "marker": {
             "colorbar": {
              "outlinewidth": 0,
              "ticks": ""
             }
            },
            "type": "scattercarpet"
           }
          ],
          "scattergeo": [
           {
            "marker": {
             "colorbar": {
              "outlinewidth": 0,
              "ticks": ""
             }
            },
            "type": "scattergeo"
           }
          ],
          "scattergl": [
           {
            "marker": {
             "colorbar": {
              "outlinewidth": 0,
              "ticks": ""
             }
            },
            "type": "scattergl"
           }
          ],
          "scattermapbox": [
           {
            "marker": {
             "colorbar": {
              "outlinewidth": 0,
              "ticks": ""
             }
            },
            "type": "scattermapbox"
           }
          ],
          "scatterpolar": [
           {
            "marker": {
             "colorbar": {
              "outlinewidth": 0,
              "ticks": ""
             }
            },
            "type": "scatterpolar"
           }
          ],
          "scatterpolargl": [
           {
            "marker": {
             "colorbar": {
              "outlinewidth": 0,
              "ticks": ""
             }
            },
            "type": "scatterpolargl"
           }
          ],
          "scatterternary": [
           {
            "marker": {
             "colorbar": {
              "outlinewidth": 0,
              "ticks": ""
             }
            },
            "type": "scatterternary"
           }
          ],
          "surface": [
           {
            "colorbar": {
             "outlinewidth": 0,
             "ticks": ""
            },
            "colorscale": [
             [
              0,
              "#0d0887"
             ],
             [
              0.1111111111111111,
              "#46039f"
             ],
             [
              0.2222222222222222,
              "#7201a8"
             ],
             [
              0.3333333333333333,
              "#9c179e"
             ],
             [
              0.4444444444444444,
              "#bd3786"
             ],
             [
              0.5555555555555556,
              "#d8576b"
             ],
             [
              0.6666666666666666,
              "#ed7953"
             ],
             [
              0.7777777777777778,
              "#fb9f3a"
             ],
             [
              0.8888888888888888,
              "#fdca26"
             ],
             [
              1,
              "#f0f921"
             ]
            ],
            "type": "surface"
           }
          ],
          "table": [
           {
            "cells": {
             "fill": {
              "color": "#EBF0F8"
             },
             "line": {
              "color": "white"
             }
            },
            "header": {
             "fill": {
              "color": "#C8D4E3"
             },
             "line": {
              "color": "white"
             }
            },
            "type": "table"
           }
          ]
         },
         "layout": {
          "annotationdefaults": {
           "arrowcolor": "#2a3f5f",
           "arrowhead": 0,
           "arrowwidth": 1
          },
          "autotypenumbers": "strict",
          "coloraxis": {
           "colorbar": {
            "outlinewidth": 0,
            "ticks": ""
           }
          },
          "colorscale": {
           "diverging": [
            [
             0,
             "#8e0152"
            ],
            [
             0.1,
             "#c51b7d"
            ],
            [
             0.2,
             "#de77ae"
            ],
            [
             0.3,
             "#f1b6da"
            ],
            [
             0.4,
             "#fde0ef"
            ],
            [
             0.5,
             "#f7f7f7"
            ],
            [
             0.6,
             "#e6f5d0"
            ],
            [
             0.7,
             "#b8e186"
            ],
            [
             0.8,
             "#7fbc41"
            ],
            [
             0.9,
             "#4d9221"
            ],
            [
             1,
             "#276419"
            ]
           ],
           "sequential": [
            [
             0,
             "#0d0887"
            ],
            [
             0.1111111111111111,
             "#46039f"
            ],
            [
             0.2222222222222222,
             "#7201a8"
            ],
            [
             0.3333333333333333,
             "#9c179e"
            ],
            [
             0.4444444444444444,
             "#bd3786"
            ],
            [
             0.5555555555555556,
             "#d8576b"
            ],
            [
             0.6666666666666666,
             "#ed7953"
            ],
            [
             0.7777777777777778,
             "#fb9f3a"
            ],
            [
             0.8888888888888888,
             "#fdca26"
            ],
            [
             1,
             "#f0f921"
            ]
           ],
           "sequentialminus": [
            [
             0,
             "#0d0887"
            ],
            [
             0.1111111111111111,
             "#46039f"
            ],
            [
             0.2222222222222222,
             "#7201a8"
            ],
            [
             0.3333333333333333,
             "#9c179e"
            ],
            [
             0.4444444444444444,
             "#bd3786"
            ],
            [
             0.5555555555555556,
             "#d8576b"
            ],
            [
             0.6666666666666666,
             "#ed7953"
            ],
            [
             0.7777777777777778,
             "#fb9f3a"
            ],
            [
             0.8888888888888888,
             "#fdca26"
            ],
            [
             1,
             "#f0f921"
            ]
           ]
          },
          "colorway": [
           "#636efa",
           "#EF553B",
           "#00cc96",
           "#ab63fa",
           "#FFA15A",
           "#19d3f3",
           "#FF6692",
           "#B6E880",
           "#FF97FF",
           "#FECB52"
          ],
          "font": {
           "color": "#2a3f5f"
          },
          "geo": {
           "bgcolor": "white",
           "lakecolor": "white",
           "landcolor": "#E5ECF6",
           "showlakes": true,
           "showland": true,
           "subunitcolor": "white"
          },
          "hoverlabel": {
           "align": "left"
          },
          "hovermode": "closest",
          "mapbox": {
           "style": "light"
          },
          "paper_bgcolor": "white",
          "plot_bgcolor": "#E5ECF6",
          "polar": {
           "angularaxis": {
            "gridcolor": "white",
            "linecolor": "white",
            "ticks": ""
           },
           "bgcolor": "#E5ECF6",
           "radialaxis": {
            "gridcolor": "white",
            "linecolor": "white",
            "ticks": ""
           }
          },
          "scene": {
           "xaxis": {
            "backgroundcolor": "#E5ECF6",
            "gridcolor": "white",
            "gridwidth": 2,
            "linecolor": "white",
            "showbackground": true,
            "ticks": "",
            "zerolinecolor": "white"
           },
           "yaxis": {
            "backgroundcolor": "#E5ECF6",
            "gridcolor": "white",
            "gridwidth": 2,
            "linecolor": "white",
            "showbackground": true,
            "ticks": "",
            "zerolinecolor": "white"
           },
           "zaxis": {
            "backgroundcolor": "#E5ECF6",
            "gridcolor": "white",
            "gridwidth": 2,
            "linecolor": "white",
            "showbackground": true,
            "ticks": "",
            "zerolinecolor": "white"
           }
          },
          "shapedefaults": {
           "line": {
            "color": "#2a3f5f"
           }
          },
          "ternary": {
           "aaxis": {
            "gridcolor": "white",
            "linecolor": "white",
            "ticks": ""
           },
           "baxis": {
            "gridcolor": "white",
            "linecolor": "white",
            "ticks": ""
           },
           "bgcolor": "#E5ECF6",
           "caxis": {
            "gridcolor": "white",
            "linecolor": "white",
            "ticks": ""
           }
          },
          "title": {
           "x": 0.05
          },
          "xaxis": {
           "automargin": true,
           "gridcolor": "white",
           "linecolor": "white",
           "ticks": "",
           "title": {
            "standoff": 15
           },
           "zerolinecolor": "white",
           "zerolinewidth": 2
          },
          "yaxis": {
           "automargin": true,
           "gridcolor": "white",
           "linecolor": "white",
           "ticks": "",
           "title": {
            "standoff": 15
           },
           "zerolinecolor": "white",
           "zerolinewidth": 2
          }
         }
        },
        "title": {
         "text": "Распределение стоимости квадратного метра по классам недвижимости для региона 77"
        },
        "xaxis": {
         "anchor": "y",
         "categoryarray": [
          "Комфорт",
          "Бизнес",
          "Типовой",
          "Элитный"
         ],
         "categoryorder": "array",
         "domain": [
          0,
          1
         ],
         "title": {
          "text": "Класс недвижимости"
         }
        },
        "yaxis": {
         "anchor": "x",
         "domain": [
          0,
          1
         ],
         "title": {
          "text": "Средняя цена за квадратный метр"
         }
        }
       }
      },
      "text/html": [
       "<div>                            <div id=\"861023c9-a13e-4e1c-8ca9-356f1ca340b5\" class=\"plotly-graph-div\" style=\"height:525px; width:100%;\"></div>            <script type=\"text/javascript\">                require([\"plotly\"], function(Plotly) {                    window.PLOTLYENV=window.PLOTLYENV || {};                                    if (document.getElementById(\"861023c9-a13e-4e1c-8ca9-356f1ca340b5\")) {                    Plotly.newPlot(                        \"861023c9-a13e-4e1c-8ca9-356f1ca340b5\",                        [{\"alignmentgroup\":\"True\",\"hovertemplate\":\"\\u041a\\u043b\\u0430\\u0441\\u0441 \\u043d\\u0435\\u0434\\u0432\\u0438\\u0436\\u0438\\u043c\\u043e\\u0441\\u0442\\u0438=%{x}<br>\\u0421\\u0440\\u0435\\u0434\\u043d\\u044f\\u044f \\u0446\\u0435\\u043d\\u0430 \\u0437\\u0430 \\u043a\\u0432\\u0430\\u0434\\u0440\\u0430\\u0442\\u043d\\u044b\\u0439 \\u043c\\u0435\\u0442\\u0440=%{y}<extra></extra>\",\"legendgroup\":\"\\u041a\\u043e\\u043c\\u0444\\u043e\\u0440\\u0442\",\"marker\":{\"color\":\"#636efa\"},\"name\":\"\\u041a\\u043e\\u043c\\u0444\\u043e\\u0440\\u0442\",\"notched\":false,\"offsetgroup\":\"\\u041a\\u043e\\u043c\\u0444\\u043e\\u0440\\u0442\",\"orientation\":\"v\",\"showlegend\":true,\"x\":[\"\\u041a\\u043e\\u043c\\u0444\\u043e\\u0440\\u0442\",\"\\u041a\\u043e\\u043c\\u0444\\u043e\\u0440\\u0442\",\"\\u041a\\u043e\\u043c\\u0444\\u043e\\u0440\\u0442\",\"\\u041a\\u043e\\u043c\\u0444\\u043e\\u0440\\u0442\",\"\\u041a\\u043e\\u043c\\u0444\\u043e\\u0440\\u0442\",\"\\u041a\\u043e\\u043c\\u0444\\u043e\\u0440\\u0442\",\"\\u041a\\u043e\\u043c\\u0444\\u043e\\u0440\\u0442\",\"\\u041a\\u043e\\u043c\\u0444\\u043e\\u0440\\u0442\",\"\\u041a\\u043e\\u043c\\u0444\\u043e\\u0440\\u0442\",\"\\u041a\\u043e\\u043c\\u0444\\u043e\\u0440\\u0442\",\"\\u041a\\u043e\\u043c\\u0444\\u043e\\u0440\\u0442\",\"\\u041a\\u043e\\u043c\\u0444\\u043e\\u0440\\u0442\",\"\\u041a\\u043e\\u043c\\u0444\\u043e\\u0440\\u0442\",\"\\u041a\\u043e\\u043c\\u0444\\u043e\\u0440\\u0442\",\"\\u041a\\u043e\\u043c\\u0444\\u043e\\u0440\\u0442\",\"\\u041a\\u043e\\u043c\\u0444\\u043e\\u0440\\u0442\",\"\\u041a\\u043e\\u043c\\u0444\\u043e\\u0440\\u0442\",\"\\u041a\\u043e\\u043c\\u0444\\u043e\\u0440\\u0442\",\"\\u041a\\u043e\\u043c\\u0444\\u043e\\u0440\\u0442\",\"\\u041a\\u043e\\u043c\\u0444\\u043e\\u0440\\u0442\",\"\\u041a\\u043e\\u043c\\u0444\\u043e\\u0440\\u0442\",\"\\u041a\\u043e\\u043c\\u0444\\u043e\\u0440\\u0442\",\"\\u041a\\u043e\\u043c\\u0444\\u043e\\u0440\\u0442\",\"\\u041a\\u043e\\u043c\\u0444\\u043e\\u0440\\u0442\",\"\\u041a\\u043e\\u043c\\u0444\\u043e\\u0440\\u0442\",\"\\u041a\\u043e\\u043c\\u0444\\u043e\\u0440\\u0442\",\"\\u041a\\u043e\\u043c\\u0444\\u043e\\u0440\\u0442\",\"\\u041a\\u043e\\u043c\\u0444\\u043e\\u0440\\u0442\",\"\\u041a\\u043e\\u043c\\u0444\\u043e\\u0440\\u0442\",\"\\u041a\\u043e\\u043c\\u0444\\u043e\\u0440\\u0442\",\"\\u041a\\u043e\\u043c\\u0444\\u043e\\u0440\\u0442\",\"\\u041a\\u043e\\u043c\\u0444\\u043e\\u0440\\u0442\",\"\\u041a\\u043e\\u043c\\u0444\\u043e\\u0440\\u0442\",\"\\u041a\\u043e\\u043c\\u0444\\u043e\\u0440\\u0442\",\"\\u041a\\u043e\\u043c\\u0444\\u043e\\u0440\\u0442\",\"\\u041a\\u043e\\u043c\\u0444\\u043e\\u0440\\u0442\",\"\\u041a\\u043e\\u043c\\u0444\\u043e\\u0440\\u0442\",\"\\u041a\\u043e\\u043c\\u0444\\u043e\\u0440\\u0442\",\"\\u041a\\u043e\\u043c\\u0444\\u043e\\u0440\\u0442\",\"\\u041a\\u043e\\u043c\\u0444\\u043e\\u0440\\u0442\",\"\\u041a\\u043e\\u043c\\u0444\\u043e\\u0440\\u0442\",\"\\u041a\\u043e\\u043c\\u0444\\u043e\\u0440\\u0442\",\"\\u041a\\u043e\\u043c\\u0444\\u043e\\u0440\\u0442\",\"\\u041a\\u043e\\u043c\\u0444\\u043e\\u0440\\u0442\",\"\\u041a\\u043e\\u043c\\u0444\\u043e\\u0440\\u0442\",\"\\u041a\\u043e\\u043c\\u0444\\u043e\\u0440\\u0442\",\"\\u041a\\u043e\\u043c\\u0444\\u043e\\u0440\\u0442\",\"\\u041a\\u043e\\u043c\\u0444\\u043e\\u0440\\u0442\",\"\\u041a\\u043e\\u043c\\u0444\\u043e\\u0440\\u0442\",\"\\u041a\\u043e\\u043c\\u0444\\u043e\\u0440\\u0442\",\"\\u041a\\u043e\\u043c\\u0444\\u043e\\u0440\\u0442\",\"\\u041a\\u043e\\u043c\\u0444\\u043e\\u0440\\u0442\",\"\\u041a\\u043e\\u043c\\u0444\\u043e\\u0440\\u0442\",\"\\u041a\\u043e\\u043c\\u0444\\u043e\\u0440\\u0442\",\"\\u041a\\u043e\\u043c\\u0444\\u043e\\u0440\\u0442\",\"\\u041a\\u043e\\u043c\\u0444\\u043e\\u0440\\u0442\",\"\\u041a\\u043e\\u043c\\u0444\\u043e\\u0440\\u0442\",\"\\u041a\\u043e\\u043c\\u0444\\u043e\\u0440\\u0442\",\"\\u041a\\u043e\\u043c\\u0444\\u043e\\u0440\\u0442\",\"\\u041a\\u043e\\u043c\\u0444\\u043e\\u0440\\u0442\",\"\\u041a\\u043e\\u043c\\u0444\\u043e\\u0440\\u0442\",\"\\u041a\\u043e\\u043c\\u0444\\u043e\\u0440\\u0442\",\"\\u041a\\u043e\\u043c\\u0444\\u043e\\u0440\\u0442\",\"\\u041a\\u043e\\u043c\\u0444\\u043e\\u0440\\u0442\",\"\\u041a\\u043e\\u043c\\u0444\\u043e\\u0440\\u0442\",\"\\u041a\\u043e\\u043c\\u0444\\u043e\\u0440\\u0442\",\"\\u041a\\u043e\\u043c\\u0444\\u043e\\u0440\\u0442\",\"\\u041a\\u043e\\u043c\\u0444\\u043e\\u0440\\u0442\",\"\\u041a\\u043e\\u043c\\u0444\\u043e\\u0440\\u0442\",\"\\u041a\\u043e\\u043c\\u0444\\u043e\\u0440\\u0442\",\"\\u041a\\u043e\\u043c\\u0444\\u043e\\u0440\\u0442\",\"\\u041a\\u043e\\u043c\\u0444\\u043e\\u0440\\u0442\",\"\\u041a\\u043e\\u043c\\u0444\\u043e\\u0440\\u0442\",\"\\u041a\\u043e\\u043c\\u0444\\u043e\\u0440\\u0442\",\"\\u041a\\u043e\\u043c\\u0444\\u043e\\u0440\\u0442\",\"\\u041a\\u043e\\u043c\\u0444\\u043e\\u0440\\u0442\",\"\\u041a\\u043e\\u043c\\u0444\\u043e\\u0440\\u0442\",\"\\u041a\\u043e\\u043c\\u0444\\u043e\\u0440\\u0442\",\"\\u041a\\u043e\\u043c\\u0444\\u043e\\u0440\\u0442\",\"\\u041a\\u043e\\u043c\\u0444\\u043e\\u0440\\u0442\",\"\\u041a\\u043e\\u043c\\u0444\\u043e\\u0440\\u0442\",\"\\u041a\\u043e\\u043c\\u0444\\u043e\\u0440\\u0442\",\"\\u041a\\u043e\\u043c\\u0444\\u043e\\u0440\\u0442\",\"\\u041a\\u043e\\u043c\\u0444\\u043e\\u0440\\u0442\",\"\\u041a\\u043e\\u043c\\u0444\\u043e\\u0440\\u0442\",\"\\u041a\\u043e\\u043c\\u0444\\u043e\\u0440\\u0442\",\"\\u041a\\u043e\\u043c\\u0444\\u043e\\u0440\\u0442\",\"\\u041a\\u043e\\u043c\\u0444\\u043e\\u0440\\u0442\",\"\\u041a\\u043e\\u043c\\u0444\\u043e\\u0440\\u0442\",\"\\u041a\\u043e\\u043c\\u0444\\u043e\\u0440\\u0442\",\"\\u041a\\u043e\\u043c\\u0444\\u043e\\u0440\\u0442\",\"\\u041a\\u043e\\u043c\\u0444\\u043e\\u0440\\u0442\",\"\\u041a\\u043e\\u043c\\u0444\\u043e\\u0440\\u0442\",\"\\u041a\\u043e\\u043c\\u0444\\u043e\\u0440\\u0442\",\"\\u041a\\u043e\\u043c\\u0444\\u043e\\u0440\\u0442\",\"\\u041a\\u043e\\u043c\\u0444\\u043e\\u0440\\u0442\",\"\\u041a\\u043e\\u043c\\u0444\\u043e\\u0440\\u0442\",\"\\u041a\\u043e\\u043c\\u0444\\u043e\\u0440\\u0442\",\"\\u041a\\u043e\\u043c\\u0444\\u043e\\u0440\\u0442\",\"\\u041a\\u043e\\u043c\\u0444\\u043e\\u0440\\u0442\",\"\\u041a\\u043e\\u043c\\u0444\\u043e\\u0440\\u0442\",\"\\u041a\\u043e\\u043c\\u0444\\u043e\\u0440\\u0442\",\"\\u041a\\u043e\\u043c\\u0444\\u043e\\u0440\\u0442\",\"\\u041a\\u043e\\u043c\\u0444\\u043e\\u0440\\u0442\",\"\\u041a\\u043e\\u043c\\u0444\\u043e\\u0440\\u0442\",\"\\u041a\\u043e\\u043c\\u0444\\u043e\\u0440\\u0442\",\"\\u041a\\u043e\\u043c\\u0444\\u043e\\u0440\\u0442\",\"\\u041a\\u043e\\u043c\\u0444\\u043e\\u0440\\u0442\",\"\\u041a\\u043e\\u043c\\u0444\\u043e\\u0440\\u0442\",\"\\u041a\\u043e\\u043c\\u0444\\u043e\\u0440\\u0442\",\"\\u041a\\u043e\\u043c\\u0444\\u043e\\u0440\\u0442\",\"\\u041a\\u043e\\u043c\\u0444\\u043e\\u0440\\u0442\",\"\\u041a\\u043e\\u043c\\u0444\\u043e\\u0440\\u0442\",\"\\u041a\\u043e\\u043c\\u0444\\u043e\\u0440\\u0442\",\"\\u041a\\u043e\\u043c\\u0444\\u043e\\u0440\\u0442\",\"\\u041a\\u043e\\u043c\\u0444\\u043e\\u0440\\u0442\",\"\\u041a\\u043e\\u043c\\u0444\\u043e\\u0440\\u0442\",\"\\u041a\\u043e\\u043c\\u0444\\u043e\\u0440\\u0442\",\"\\u041a\\u043e\\u043c\\u0444\\u043e\\u0440\\u0442\",\"\\u041a\\u043e\\u043c\\u0444\\u043e\\u0440\\u0442\",\"\\u041a\\u043e\\u043c\\u0444\\u043e\\u0440\\u0442\",\"\\u041a\\u043e\\u043c\\u0444\\u043e\\u0440\\u0442\",\"\\u041a\\u043e\\u043c\\u0444\\u043e\\u0440\\u0442\",\"\\u041a\\u043e\\u043c\\u0444\\u043e\\u0440\\u0442\",\"\\u041a\\u043e\\u043c\\u0444\\u043e\\u0440\\u0442\",\"\\u041a\\u043e\\u043c\\u0444\\u043e\\u0440\\u0442\",\"\\u041a\\u043e\\u043c\\u0444\\u043e\\u0440\\u0442\",\"\\u041a\\u043e\\u043c\\u0444\\u043e\\u0440\\u0442\",\"\\u041a\\u043e\\u043c\\u0444\\u043e\\u0440\\u0442\",\"\\u041a\\u043e\\u043c\\u0444\\u043e\\u0440\\u0442\",\"\\u041a\\u043e\\u043c\\u0444\\u043e\\u0440\\u0442\",\"\\u041a\\u043e\\u043c\\u0444\\u043e\\u0440\\u0442\",\"\\u041a\\u043e\\u043c\\u0444\\u043e\\u0440\\u0442\",\"\\u041a\\u043e\\u043c\\u0444\\u043e\\u0440\\u0442\",\"\\u041a\\u043e\\u043c\\u0444\\u043e\\u0440\\u0442\",\"\\u041a\\u043e\\u043c\\u0444\\u043e\\u0440\\u0442\",\"\\u041a\\u043e\\u043c\\u0444\\u043e\\u0440\\u0442\",\"\\u041a\\u043e\\u043c\\u0444\\u043e\\u0440\\u0442\",\"\\u041a\\u043e\\u043c\\u0444\\u043e\\u0440\\u0442\",\"\\u041a\\u043e\\u043c\\u0444\\u043e\\u0440\\u0442\",\"\\u041a\\u043e\\u043c\\u0444\\u043e\\u0440\\u0442\",\"\\u041a\\u043e\\u043c\\u0444\\u043e\\u0440\\u0442\",\"\\u041a\\u043e\\u043c\\u0444\\u043e\\u0440\\u0442\",\"\\u041a\\u043e\\u043c\\u0444\\u043e\\u0440\\u0442\",\"\\u041a\\u043e\\u043c\\u0444\\u043e\\u0440\\u0442\",\"\\u041a\\u043e\\u043c\\u0444\\u043e\\u0440\\u0442\",\"\\u041a\\u043e\\u043c\\u0444\\u043e\\u0440\\u0442\",\"\\u041a\\u043e\\u043c\\u0444\\u043e\\u0440\\u0442\",\"\\u041a\\u043e\\u043c\\u0444\\u043e\\u0440\\u0442\",\"\\u041a\\u043e\\u043c\\u0444\\u043e\\u0440\\u0442\",\"\\u041a\\u043e\\u043c\\u0444\\u043e\\u0440\\u0442\",\"\\u041a\\u043e\\u043c\\u0444\\u043e\\u0440\\u0442\"],\"x0\":\" \",\"xaxis\":\"x\",\"y\":[203155.0,118000.0,75081.0,118000.0,116996.0,117000.0,118000.0,290326.0,211488.0,141374.0,148188.0,92507.0,null,235073.0,null,null,null,268548.0,270334.0,230189.0,219896.0,221074.0,174620.0,274030.0,251994.0,284207.0,170459.0,190148.0,213619.0,253929.0,279770.0,null,null,277572.0,197199.0,207244.0,180986.0,271262.0,36675.0,297382.0,322690.0,230168.0,null,null,null,null,null,247217.0,295530.0,222106.0,285196.0,230002.0,307295.0,null,null,281218.0,292534.0,265949.0,291205.0,90000.0,210369.0,208087.0,244929.0,206740.0,181297.0,144456.0,182352.0,215640.0,null,34982.0,35000.0,35000.0,65922.0,64542.0,79114.0,96017.0,null,176803.0,null,null,170297.0,65417.0,208929.0,null,173033.0,null,185424.0,null,null,null,null,193968.0,261500.0,268688.0,174379.0,265413.0,228705.0,195733.0,null,100280.0,228687.0,204669.0,189126.0,null,196299.0,158930.0,179164.0,178716.0,188337.0,254936.0,280880.0,285549.0,200635.0,284243.0,169302.0,211084.0,183589.0,170000.0,157517.0,163982.0,245470.0,293652.0,258279.0,256752.0,276192.0,233122.0,223229.0,null,187393.0,245121.0,284225.0,279839.0,91670.0,292320.0,325144.0,85730.0,92889.0,98567.0,107888.0,208087.0,219936.0,204854.0,142744.0,175968.0,153649.0,144882.0,null,null,null,null,null,null],\"y0\":\" \",\"yaxis\":\"y\",\"type\":\"box\"},{\"alignmentgroup\":\"True\",\"hovertemplate\":\"\\u041a\\u043b\\u0430\\u0441\\u0441 \\u043d\\u0435\\u0434\\u0432\\u0438\\u0436\\u0438\\u043c\\u043e\\u0441\\u0442\\u0438=%{x}<br>\\u0421\\u0440\\u0435\\u0434\\u043d\\u044f\\u044f \\u0446\\u0435\\u043d\\u0430 \\u0437\\u0430 \\u043a\\u0432\\u0430\\u0434\\u0440\\u0430\\u0442\\u043d\\u044b\\u0439 \\u043c\\u0435\\u0442\\u0440=%{y}<extra></extra>\",\"legendgroup\":\"\\u0411\\u0438\\u0437\\u043d\\u0435\\u0441\",\"marker\":{\"color\":\"#EF553B\"},\"name\":\"\\u0411\\u0438\\u0437\\u043d\\u0435\\u0441\",\"notched\":false,\"offsetgroup\":\"\\u0411\\u0438\\u0437\\u043d\\u0435\\u0441\",\"orientation\":\"v\",\"showlegend\":true,\"x\":[\"\\u0411\\u0438\\u0437\\u043d\\u0435\\u0441\",\"\\u0411\\u0438\\u0437\\u043d\\u0435\\u0441\",\"\\u0411\\u0438\\u0437\\u043d\\u0435\\u0441\",\"\\u0411\\u0438\\u0437\\u043d\\u0435\\u0441\",\"\\u0411\\u0438\\u0437\\u043d\\u0435\\u0441\",\"\\u0411\\u0438\\u0437\\u043d\\u0435\\u0441\",\"\\u0411\\u0438\\u0437\\u043d\\u0435\\u0441\",\"\\u0411\\u0438\\u0437\\u043d\\u0435\\u0441\",\"\\u0411\\u0438\\u0437\\u043d\\u0435\\u0441\",\"\\u0411\\u0438\\u0437\\u043d\\u0435\\u0441\",\"\\u0411\\u0438\\u0437\\u043d\\u0435\\u0441\",\"\\u0411\\u0438\\u0437\\u043d\\u0435\\u0441\",\"\\u0411\\u0438\\u0437\\u043d\\u0435\\u0441\",\"\\u0411\\u0438\\u0437\\u043d\\u0435\\u0441\",\"\\u0411\\u0438\\u0437\\u043d\\u0435\\u0441\",\"\\u0411\\u0438\\u0437\\u043d\\u0435\\u0441\",\"\\u0411\\u0438\\u0437\\u043d\\u0435\\u0441\",\"\\u0411\\u0438\\u0437\\u043d\\u0435\\u0441\",\"\\u0411\\u0438\\u0437\\u043d\\u0435\\u0441\",\"\\u0411\\u0438\\u0437\\u043d\\u0435\\u0441\",\"\\u0411\\u0438\\u0437\\u043d\\u0435\\u0441\",\"\\u0411\\u0438\\u0437\\u043d\\u0435\\u0441\",\"\\u0411\\u0438\\u0437\\u043d\\u0435\\u0441\",\"\\u0411\\u0438\\u0437\\u043d\\u0435\\u0441\",\"\\u0411\\u0438\\u0437\\u043d\\u0435\\u0441\",\"\\u0411\\u0438\\u0437\\u043d\\u0435\\u0441\",\"\\u0411\\u0438\\u0437\\u043d\\u0435\\u0441\",\"\\u0411\\u0438\\u0437\\u043d\\u0435\\u0441\",\"\\u0411\\u0438\\u0437\\u043d\\u0435\\u0441\",\"\\u0411\\u0438\\u0437\\u043d\\u0435\\u0441\",\"\\u0411\\u0438\\u0437\\u043d\\u0435\\u0441\",\"\\u0411\\u0438\\u0437\\u043d\\u0435\\u0441\",\"\\u0411\\u0438\\u0437\\u043d\\u0435\\u0441\",\"\\u0411\\u0438\\u0437\\u043d\\u0435\\u0441\",\"\\u0411\\u0438\\u0437\\u043d\\u0435\\u0441\",\"\\u0411\\u0438\\u0437\\u043d\\u0435\\u0441\",\"\\u0411\\u0438\\u0437\\u043d\\u0435\\u0441\",\"\\u0411\\u0438\\u0437\\u043d\\u0435\\u0441\",\"\\u0411\\u0438\\u0437\\u043d\\u0435\\u0441\",\"\\u0411\\u0438\\u0437\\u043d\\u0435\\u0441\",\"\\u0411\\u0438\\u0437\\u043d\\u0435\\u0441\",\"\\u0411\\u0438\\u0437\\u043d\\u0435\\u0441\",\"\\u0411\\u0438\\u0437\\u043d\\u0435\\u0441\",\"\\u0411\\u0438\\u0437\\u043d\\u0435\\u0441\",\"\\u0411\\u0438\\u0437\\u043d\\u0435\\u0441\",\"\\u0411\\u0438\\u0437\\u043d\\u0435\\u0441\",\"\\u0411\\u0438\\u0437\\u043d\\u0435\\u0441\",\"\\u0411\\u0438\\u0437\\u043d\\u0435\\u0441\",\"\\u0411\\u0438\\u0437\\u043d\\u0435\\u0441\",\"\\u0411\\u0438\\u0437\\u043d\\u0435\\u0441\",\"\\u0411\\u0438\\u0437\\u043d\\u0435\\u0441\",\"\\u0411\\u0438\\u0437\\u043d\\u0435\\u0441\",\"\\u0411\\u0438\\u0437\\u043d\\u0435\\u0441\",\"\\u0411\\u0438\\u0437\\u043d\\u0435\\u0441\",\"\\u0411\\u0438\\u0437\\u043d\\u0435\\u0441\",\"\\u0411\\u0438\\u0437\\u043d\\u0435\\u0441\",\"\\u0411\\u0438\\u0437\\u043d\\u0435\\u0441\",\"\\u0411\\u0438\\u0437\\u043d\\u0435\\u0441\",\"\\u0411\\u0438\\u0437\\u043d\\u0435\\u0441\",\"\\u0411\\u0438\\u0437\\u043d\\u0435\\u0441\",\"\\u0411\\u0438\\u0437\\u043d\\u0435\\u0441\",\"\\u0411\\u0438\\u0437\\u043d\\u0435\\u0441\",\"\\u0411\\u0438\\u0437\\u043d\\u0435\\u0441\",\"\\u0411\\u0438\\u0437\\u043d\\u0435\\u0441\",\"\\u0411\\u0438\\u0437\\u043d\\u0435\\u0441\",\"\\u0411\\u0438\\u0437\\u043d\\u0435\\u0441\",\"\\u0411\\u0438\\u0437\\u043d\\u0435\\u0441\",\"\\u0411\\u0438\\u0437\\u043d\\u0435\\u0441\",\"\\u0411\\u0438\\u0437\\u043d\\u0435\\u0441\",\"\\u0411\\u0438\\u0437\\u043d\\u0435\\u0441\",\"\\u0411\\u0438\\u0437\\u043d\\u0435\\u0441\",\"\\u0411\\u0438\\u0437\\u043d\\u0435\\u0441\",\"\\u0411\\u0438\\u0437\\u043d\\u0435\\u0441\",\"\\u0411\\u0438\\u0437\\u043d\\u0435\\u0441\",\"\\u0411\\u0438\\u0437\\u043d\\u0435\\u0441\",\"\\u0411\\u0438\\u0437\\u043d\\u0435\\u0441\",\"\\u0411\\u0438\\u0437\\u043d\\u0435\\u0441\",\"\\u0411\\u0438\\u0437\\u043d\\u0435\\u0441\",\"\\u0411\\u0438\\u0437\\u043d\\u0435\\u0441\",\"\\u0411\\u0438\\u0437\\u043d\\u0435\\u0441\",\"\\u0411\\u0438\\u0437\\u043d\\u0435\\u0441\",\"\\u0411\\u0438\\u0437\\u043d\\u0435\\u0441\",\"\\u0411\\u0438\\u0437\\u043d\\u0435\\u0441\",\"\\u0411\\u0438\\u0437\\u043d\\u0435\\u0441\",\"\\u0411\\u0438\\u0437\\u043d\\u0435\\u0441\",\"\\u0411\\u0438\\u0437\\u043d\\u0435\\u0441\",\"\\u0411\\u0438\\u0437\\u043d\\u0435\\u0441\",\"\\u0411\\u0438\\u0437\\u043d\\u0435\\u0441\",\"\\u0411\\u0438\\u0437\\u043d\\u0435\\u0441\",\"\\u0411\\u0438\\u0437\\u043d\\u0435\\u0441\",\"\\u0411\\u0438\\u0437\\u043d\\u0435\\u0441\",\"\\u0411\\u0438\\u0437\\u043d\\u0435\\u0441\",\"\\u0411\\u0438\\u0437\\u043d\\u0435\\u0441\",\"\\u0411\\u0438\\u0437\\u043d\\u0435\\u0441\",\"\\u0411\\u0438\\u0437\\u043d\\u0435\\u0441\",\"\\u0411\\u0438\\u0437\\u043d\\u0435\\u0441\",\"\\u0411\\u0438\\u0437\\u043d\\u0435\\u0441\",\"\\u0411\\u0438\\u0437\\u043d\\u0435\\u0441\",\"\\u0411\\u0438\\u0437\\u043d\\u0435\\u0441\",\"\\u0411\\u0438\\u0437\\u043d\\u0435\\u0441\",\"\\u0411\\u0438\\u0437\\u043d\\u0435\\u0441\",\"\\u0411\\u0438\\u0437\\u043d\\u0435\\u0441\",\"\\u0411\\u0438\\u0437\\u043d\\u0435\\u0441\",\"\\u0411\\u0438\\u0437\\u043d\\u0435\\u0441\",\"\\u0411\\u0438\\u0437\\u043d\\u0435\\u0441\",\"\\u0411\\u0438\\u0437\\u043d\\u0435\\u0441\",\"\\u0411\\u0438\\u0437\\u043d\\u0435\\u0441\",\"\\u0411\\u0438\\u0437\\u043d\\u0435\\u0441\",\"\\u0411\\u0438\\u0437\\u043d\\u0435\\u0441\",\"\\u0411\\u0438\\u0437\\u043d\\u0435\\u0441\",\"\\u0411\\u0438\\u0437\\u043d\\u0435\\u0441\",\"\\u0411\\u0438\\u0437\\u043d\\u0435\\u0441\",\"\\u0411\\u0438\\u0437\\u043d\\u0435\\u0441\",\"\\u0411\\u0438\\u0437\\u043d\\u0435\\u0441\",\"\\u0411\\u0438\\u0437\\u043d\\u0435\\u0441\",\"\\u0411\\u0438\\u0437\\u043d\\u0435\\u0441\",\"\\u0411\\u0438\\u0437\\u043d\\u0435\\u0441\",\"\\u0411\\u0438\\u0437\\u043d\\u0435\\u0441\",\"\\u0411\\u0438\\u0437\\u043d\\u0435\\u0441\",\"\\u0411\\u0438\\u0437\\u043d\\u0435\\u0441\",\"\\u0411\\u0438\\u0437\\u043d\\u0435\\u0441\",\"\\u0411\\u0438\\u0437\\u043d\\u0435\\u0441\",\"\\u0411\\u0438\\u0437\\u043d\\u0435\\u0441\",\"\\u0411\\u0438\\u0437\\u043d\\u0435\\u0441\",\"\\u0411\\u0438\\u0437\\u043d\\u0435\\u0441\",\"\\u0411\\u0438\\u0437\\u043d\\u0435\\u0441\",\"\\u0411\\u0438\\u0437\\u043d\\u0435\\u0441\",\"\\u0411\\u0438\\u0437\\u043d\\u0435\\u0441\",\"\\u0411\\u0438\\u0437\\u043d\\u0435\\u0441\",\"\\u0411\\u0438\\u0437\\u043d\\u0435\\u0441\",\"\\u0411\\u0438\\u0437\\u043d\\u0435\\u0441\",\"\\u0411\\u0438\\u0437\\u043d\\u0435\\u0441\",\"\\u0411\\u0438\\u0437\\u043d\\u0435\\u0441\",\"\\u0411\\u0438\\u0437\\u043d\\u0435\\u0441\",\"\\u0411\\u0438\\u0437\\u043d\\u0435\\u0441\",\"\\u0411\\u0438\\u0437\\u043d\\u0435\\u0441\",\"\\u0411\\u0438\\u0437\\u043d\\u0435\\u0441\",\"\\u0411\\u0438\\u0437\\u043d\\u0435\\u0441\",\"\\u0411\\u0438\\u0437\\u043d\\u0435\\u0441\",\"\\u0411\\u0438\\u0437\\u043d\\u0435\\u0441\",\"\\u0411\\u0438\\u0437\\u043d\\u0435\\u0441\",\"\\u0411\\u0438\\u0437\\u043d\\u0435\\u0441\",\"\\u0411\\u0438\\u0437\\u043d\\u0435\\u0441\",\"\\u0411\\u0438\\u0437\\u043d\\u0435\\u0441\",\"\\u0411\\u0438\\u0437\\u043d\\u0435\\u0441\",\"\\u0411\\u0438\\u0437\\u043d\\u0435\\u0441\",\"\\u0411\\u0438\\u0437\\u043d\\u0435\\u0441\",\"\\u0411\\u0438\\u0437\\u043d\\u0435\\u0441\",\"\\u0411\\u0438\\u0437\\u043d\\u0435\\u0441\",\"\\u0411\\u0438\\u0437\\u043d\\u0435\\u0441\",\"\\u0411\\u0438\\u0437\\u043d\\u0435\\u0441\",\"\\u0411\\u0438\\u0437\\u043d\\u0435\\u0441\",\"\\u0411\\u0438\\u0437\\u043d\\u0435\\u0441\",\"\\u0411\\u0438\\u0437\\u043d\\u0435\\u0441\",\"\\u0411\\u0438\\u0437\\u043d\\u0435\\u0441\",\"\\u0411\\u0438\\u0437\\u043d\\u0435\\u0441\",\"\\u0411\\u0438\\u0437\\u043d\\u0435\\u0441\",\"\\u0411\\u0438\\u0437\\u043d\\u0435\\u0441\",\"\\u0411\\u0438\\u0437\\u043d\\u0435\\u0441\",\"\\u0411\\u0438\\u0437\\u043d\\u0435\\u0441\",\"\\u0411\\u0438\\u0437\\u043d\\u0435\\u0441\",\"\\u0411\\u0438\\u0437\\u043d\\u0435\\u0441\",\"\\u0411\\u0438\\u0437\\u043d\\u0435\\u0441\",\"\\u0411\\u0438\\u0437\\u043d\\u0435\\u0441\",\"\\u0411\\u0438\\u0437\\u043d\\u0435\\u0441\",\"\\u0411\\u0438\\u0437\\u043d\\u0435\\u0441\",\"\\u0411\\u0438\\u0437\\u043d\\u0435\\u0441\",\"\\u0411\\u0438\\u0437\\u043d\\u0435\\u0441\",\"\\u0411\\u0438\\u0437\\u043d\\u0435\\u0441\",\"\\u0411\\u0438\\u0437\\u043d\\u0435\\u0441\",\"\\u0411\\u0438\\u0437\\u043d\\u0435\\u0441\",\"\\u0411\\u0438\\u0437\\u043d\\u0435\\u0441\",\"\\u0411\\u0438\\u0437\\u043d\\u0435\\u0441\",\"\\u0411\\u0438\\u0437\\u043d\\u0435\\u0441\",\"\\u0411\\u0438\\u0437\\u043d\\u0435\\u0441\",\"\\u0411\\u0438\\u0437\\u043d\\u0435\\u0441\",\"\\u0411\\u0438\\u0437\\u043d\\u0435\\u0441\",\"\\u0411\\u0438\\u0437\\u043d\\u0435\\u0441\",\"\\u0411\\u0438\\u0437\\u043d\\u0435\\u0441\",\"\\u0411\\u0438\\u0437\\u043d\\u0435\\u0441\",\"\\u0411\\u0438\\u0437\\u043d\\u0435\\u0441\",\"\\u0411\\u0438\\u0437\\u043d\\u0435\\u0441\",\"\\u0411\\u0438\\u0437\\u043d\\u0435\\u0441\",\"\\u0411\\u0438\\u0437\\u043d\\u0435\\u0441\",\"\\u0411\\u0438\\u0437\\u043d\\u0435\\u0441\",\"\\u0411\\u0438\\u0437\\u043d\\u0435\\u0441\",\"\\u0411\\u0438\\u0437\\u043d\\u0435\\u0441\",\"\\u0411\\u0438\\u0437\\u043d\\u0435\\u0441\",\"\\u0411\\u0438\\u0437\\u043d\\u0435\\u0441\",\"\\u0411\\u0438\\u0437\\u043d\\u0435\\u0441\",\"\\u0411\\u0438\\u0437\\u043d\\u0435\\u0441\",\"\\u0411\\u0438\\u0437\\u043d\\u0435\\u0441\",\"\\u0411\\u0438\\u0437\\u043d\\u0435\\u0441\",\"\\u0411\\u0438\\u0437\\u043d\\u0435\\u0441\",\"\\u0411\\u0438\\u0437\\u043d\\u0435\\u0441\",\"\\u0411\\u0438\\u0437\\u043d\\u0435\\u0441\",\"\\u0411\\u0438\\u0437\\u043d\\u0435\\u0441\",\"\\u0411\\u0438\\u0437\\u043d\\u0435\\u0441\",\"\\u0411\\u0438\\u0437\\u043d\\u0435\\u0441\",\"\\u0411\\u0438\\u0437\\u043d\\u0435\\u0441\",\"\\u0411\\u0438\\u0437\\u043d\\u0435\\u0441\",\"\\u0411\\u0438\\u0437\\u043d\\u0435\\u0441\",\"\\u0411\\u0438\\u0437\\u043d\\u0435\\u0441\",\"\\u0411\\u0438\\u0437\\u043d\\u0435\\u0441\",\"\\u0411\\u0438\\u0437\\u043d\\u0435\\u0441\",\"\\u0411\\u0438\\u0437\\u043d\\u0435\\u0441\",\"\\u0411\\u0438\\u0437\\u043d\\u0435\\u0441\",\"\\u0411\\u0438\\u0437\\u043d\\u0435\\u0441\",\"\\u0411\\u0438\\u0437\\u043d\\u0435\\u0441\"],\"x0\":\" \",\"xaxis\":\"x\",\"y\":[207678.0,325203.0,205431.0,235970.0,217534.0,230480.0,216169.0,217043.0,217499.0,219514.0,434664.0,159041.0,306559.0,null,299624.0,336410.0,343750.0,319976.0,259197.0,235735.0,175000.0,296293.0,185381.0,null,null,236840.0,323465.0,205532.0,252244.0,233922.0,294815.0,null,357396.0,395510.0,293975.0,322216.0,317158.0,349248.0,345680.0,346242.0,361942.0,null,228906.0,343769.0,434968.0,253320.0,363112.0,320221.0,243428.0,242466.0,234920.0,212769.0,176835.0,321989.0,null,321495.0,447085.0,358119.0,378770.0,332783.0,316414.0,365785.0,312136.0,340000.0,null,391416.0,359988.0,354102.0,370565.0,395612.0,null,375193.0,null,null,null,null,null,265485.0,456183.0,471844.0,303922.0,380994.0,442607.0,525441.0,425750.0,323327.0,386264.0,268620.0,264215.0,380495.0,403778.0,388238.0,329934.0,333946.0,294168.0,405380.0,223296.0,346495.0,273706.0,301154.0,324689.0,361634.0,340145.0,227600.0,321931.0,286013.0,282357.0,327436.0,286587.0,386134.0,384540.0,406466.0,249004.0,243129.0,260727.0,335379.0,404532.0,244403.0,313565.0,352432.0,388570.0,413353.0,406069.0,294798.0,321366.0,359036.0,337226.0,230613.0,345272.0,356407.0,389273.0,265070.0,305820.0,385715.0,314613.0,307874.0,300000.0,376561.0,null,403709.0,407833.0,null,434748.0,null,437862.0,368517.0,376641.0,434535.0,356625.0,358093.0,360304.0,411529.0,365500.0,379784.0,456648.0,397832.0,null,null,469791.0,424828.0,380954.0,null,360588.0,360087.0,390907.0,394257.0,185836.0,177306.0,195188.0,232677.0,306201.0,332578.0,347038.0,242794.0,289163.0,364679.0,357453.0,268585.0,302051.0,304494.0,243609.0,211610.0,null,null,null,null,474242.0,315110.0,295522.0,368914.0,376427.0,303763.0,459949.0,280603.0,412331.0,333451.0,317568.0,315886.0,263753.0,388425.0,519232.0,263386.0,466286.0,256918.0,189700.0,185000.0,171200.0,326388.0,181000.0],\"y0\":\" \",\"yaxis\":\"y\",\"type\":\"box\"},{\"alignmentgroup\":\"True\",\"hovertemplate\":\"\\u041a\\u043b\\u0430\\u0441\\u0441 \\u043d\\u0435\\u0434\\u0432\\u0438\\u0436\\u0438\\u043c\\u043e\\u0441\\u0442\\u0438=%{x}<br>\\u0421\\u0440\\u0435\\u0434\\u043d\\u044f\\u044f \\u0446\\u0435\\u043d\\u0430 \\u0437\\u0430 \\u043a\\u0432\\u0430\\u0434\\u0440\\u0430\\u0442\\u043d\\u044b\\u0439 \\u043c\\u0435\\u0442\\u0440=%{y}<extra></extra>\",\"legendgroup\":\"\\u0422\\u0438\\u043f\\u043e\\u0432\\u043e\\u0439\",\"marker\":{\"color\":\"#00cc96\"},\"name\":\"\\u0422\\u0438\\u043f\\u043e\\u0432\\u043e\\u0439\",\"notched\":false,\"offsetgroup\":\"\\u0422\\u0438\\u043f\\u043e\\u0432\\u043e\\u0439\",\"orientation\":\"v\",\"showlegend\":true,\"x\":[\"\\u0422\\u0438\\u043f\\u043e\\u0432\\u043e\\u0439\",\"\\u0422\\u0438\\u043f\\u043e\\u0432\\u043e\\u0439\",\"\\u0422\\u0438\\u043f\\u043e\\u0432\\u043e\\u0439\",\"\\u0422\\u0438\\u043f\\u043e\\u0432\\u043e\\u0439\",\"\\u0422\\u0438\\u043f\\u043e\\u0432\\u043e\\u0439\",\"\\u0422\\u0438\\u043f\\u043e\\u0432\\u043e\\u0439\",\"\\u0422\\u0438\\u043f\\u043e\\u0432\\u043e\\u0439\",\"\\u0422\\u0438\\u043f\\u043e\\u0432\\u043e\\u0439\",\"\\u0422\\u0438\\u043f\\u043e\\u0432\\u043e\\u0439\",\"\\u0422\\u0438\\u043f\\u043e\\u0432\\u043e\\u0439\",\"\\u0422\\u0438\\u043f\\u043e\\u0432\\u043e\\u0439\",\"\\u0422\\u0438\\u043f\\u043e\\u0432\\u043e\\u0439\",\"\\u0422\\u0438\\u043f\\u043e\\u0432\\u043e\\u0439\",\"\\u0422\\u0438\\u043f\\u043e\\u0432\\u043e\\u0439\",\"\\u0422\\u0438\\u043f\\u043e\\u0432\\u043e\\u0439\",\"\\u0422\\u0438\\u043f\\u043e\\u0432\\u043e\\u0439\",\"\\u0422\\u0438\\u043f\\u043e\\u0432\\u043e\\u0439\",\"\\u0422\\u0438\\u043f\\u043e\\u0432\\u043e\\u0439\",\"\\u0422\\u0438\\u043f\\u043e\\u0432\\u043e\\u0439\",\"\\u0422\\u0438\\u043f\\u043e\\u0432\\u043e\\u0439\",\"\\u0422\\u0438\\u043f\\u043e\\u0432\\u043e\\u0439\",\"\\u0422\\u0438\\u043f\\u043e\\u0432\\u043e\\u0439\",\"\\u0422\\u0438\\u043f\\u043e\\u0432\\u043e\\u0439\",\"\\u0422\\u0438\\u043f\\u043e\\u0432\\u043e\\u0439\",\"\\u0422\\u0438\\u043f\\u043e\\u0432\\u043e\\u0439\",\"\\u0422\\u0438\\u043f\\u043e\\u0432\\u043e\\u0439\",\"\\u0422\\u0438\\u043f\\u043e\\u0432\\u043e\\u0439\",\"\\u0422\\u0438\\u043f\\u043e\\u0432\\u043e\\u0439\",\"\\u0422\\u0438\\u043f\\u043e\\u0432\\u043e\\u0439\",\"\\u0422\\u0438\\u043f\\u043e\\u0432\\u043e\\u0439\",\"\\u0422\\u0438\\u043f\\u043e\\u0432\\u043e\\u0439\",\"\\u0422\\u0438\\u043f\\u043e\\u0432\\u043e\\u0439\",\"\\u0422\\u0438\\u043f\\u043e\\u0432\\u043e\\u0439\",\"\\u0422\\u0438\\u043f\\u043e\\u0432\\u043e\\u0439\",\"\\u0422\\u0438\\u043f\\u043e\\u0432\\u043e\\u0439\",\"\\u0422\\u0438\\u043f\\u043e\\u0432\\u043e\\u0439\",\"\\u0422\\u0438\\u043f\\u043e\\u0432\\u043e\\u0439\",\"\\u0422\\u0438\\u043f\\u043e\\u0432\\u043e\\u0439\",\"\\u0422\\u0438\\u043f\\u043e\\u0432\\u043e\\u0439\",\"\\u0422\\u0438\\u043f\\u043e\\u0432\\u043e\\u0439\",\"\\u0422\\u0438\\u043f\\u043e\\u0432\\u043e\\u0439\",\"\\u0422\\u0438\\u043f\\u043e\\u0432\\u043e\\u0439\",\"\\u0422\\u0438\\u043f\\u043e\\u0432\\u043e\\u0439\",\"\\u0422\\u0438\\u043f\\u043e\\u0432\\u043e\\u0439\",\"\\u0422\\u0438\\u043f\\u043e\\u0432\\u043e\\u0439\",\"\\u0422\\u0438\\u043f\\u043e\\u0432\\u043e\\u0439\",\"\\u0422\\u0438\\u043f\\u043e\\u0432\\u043e\\u0439\",\"\\u0422\\u0438\\u043f\\u043e\\u0432\\u043e\\u0439\",\"\\u0422\\u0438\\u043f\\u043e\\u0432\\u043e\\u0439\",\"\\u0422\\u0438\\u043f\\u043e\\u0432\\u043e\\u0439\",\"\\u0422\\u0438\\u043f\\u043e\\u0432\\u043e\\u0439\",\"\\u0422\\u0438\\u043f\\u043e\\u0432\\u043e\\u0439\",\"\\u0422\\u0438\\u043f\\u043e\\u0432\\u043e\\u0439\",\"\\u0422\\u0438\\u043f\\u043e\\u0432\\u043e\\u0439\",\"\\u0422\\u0438\\u043f\\u043e\\u0432\\u043e\\u0439\",\"\\u0422\\u0438\\u043f\\u043e\\u0432\\u043e\\u0439\",\"\\u0422\\u0438\\u043f\\u043e\\u0432\\u043e\\u0439\",\"\\u0422\\u0438\\u043f\\u043e\\u0432\\u043e\\u0439\",\"\\u0422\\u0438\\u043f\\u043e\\u0432\\u043e\\u0439\",\"\\u0422\\u0438\\u043f\\u043e\\u0432\\u043e\\u0439\",\"\\u0422\\u0438\\u043f\\u043e\\u0432\\u043e\\u0439\",\"\\u0422\\u0438\\u043f\\u043e\\u0432\\u043e\\u0439\",\"\\u0422\\u0438\\u043f\\u043e\\u0432\\u043e\\u0439\",\"\\u0422\\u0438\\u043f\\u043e\\u0432\\u043e\\u0439\",\"\\u0422\\u0438\\u043f\\u043e\\u0432\\u043e\\u0439\",\"\\u0422\\u0438\\u043f\\u043e\\u0432\\u043e\\u0439\",\"\\u0422\\u0438\\u043f\\u043e\\u0432\\u043e\\u0439\",\"\\u0422\\u0438\\u043f\\u043e\\u0432\\u043e\\u0439\",\"\\u0422\\u0438\\u043f\\u043e\\u0432\\u043e\\u0439\",\"\\u0422\\u0438\\u043f\\u043e\\u0432\\u043e\\u0439\",\"\\u0422\\u0438\\u043f\\u043e\\u0432\\u043e\\u0439\",\"\\u0422\\u0438\\u043f\\u043e\\u0432\\u043e\\u0439\",\"\\u0422\\u0438\\u043f\\u043e\\u0432\\u043e\\u0439\",\"\\u0422\\u0438\\u043f\\u043e\\u0432\\u043e\\u0439\",\"\\u0422\\u0438\\u043f\\u043e\\u0432\\u043e\\u0439\",\"\\u0422\\u0438\\u043f\\u043e\\u0432\\u043e\\u0439\",\"\\u0422\\u0438\\u043f\\u043e\\u0432\\u043e\\u0439\",\"\\u0422\\u0438\\u043f\\u043e\\u0432\\u043e\\u0439\",\"\\u0422\\u0438\\u043f\\u043e\\u0432\\u043e\\u0439\",\"\\u0422\\u0438\\u043f\\u043e\\u0432\\u043e\\u0439\",\"\\u0422\\u0438\\u043f\\u043e\\u0432\\u043e\\u0439\",\"\\u0422\\u0438\\u043f\\u043e\\u0432\\u043e\\u0439\",\"\\u0422\\u0438\\u043f\\u043e\\u0432\\u043e\\u0439\",\"\\u0422\\u0438\\u043f\\u043e\\u0432\\u043e\\u0439\",\"\\u0422\\u0438\\u043f\\u043e\\u0432\\u043e\\u0439\",\"\\u0422\\u0438\\u043f\\u043e\\u0432\\u043e\\u0439\",\"\\u0422\\u0438\\u043f\\u043e\\u0432\\u043e\\u0439\",\"\\u0422\\u0438\\u043f\\u043e\\u0432\\u043e\\u0439\",\"\\u0422\\u0438\\u043f\\u043e\\u0432\\u043e\\u0439\",\"\\u0422\\u0438\\u043f\\u043e\\u0432\\u043e\\u0439\",\"\\u0422\\u0438\\u043f\\u043e\\u0432\\u043e\\u0439\",\"\\u0422\\u0438\\u043f\\u043e\\u0432\\u043e\\u0439\",\"\\u0422\\u0438\\u043f\\u043e\\u0432\\u043e\\u0439\",\"\\u0422\\u0438\\u043f\\u043e\\u0432\\u043e\\u0439\",\"\\u0422\\u0438\\u043f\\u043e\\u0432\\u043e\\u0439\",\"\\u0422\\u0438\\u043f\\u043e\\u0432\\u043e\\u0439\",\"\\u0422\\u0438\\u043f\\u043e\\u0432\\u043e\\u0439\",\"\\u0422\\u0438\\u043f\\u043e\\u0432\\u043e\\u0439\",\"\\u0422\\u0438\\u043f\\u043e\\u0432\\u043e\\u0439\",\"\\u0422\\u0438\\u043f\\u043e\\u0432\\u043e\\u0439\",\"\\u0422\\u0438\\u043f\\u043e\\u0432\\u043e\\u0439\",\"\\u0422\\u0438\\u043f\\u043e\\u0432\\u043e\\u0439\",\"\\u0422\\u0438\\u043f\\u043e\\u0432\\u043e\\u0439\",\"\\u0422\\u0438\\u043f\\u043e\\u0432\\u043e\\u0439\",\"\\u0422\\u0438\\u043f\\u043e\\u0432\\u043e\\u0439\",\"\\u0422\\u0438\\u043f\\u043e\\u0432\\u043e\\u0439\",\"\\u0422\\u0438\\u043f\\u043e\\u0432\\u043e\\u0439\",\"\\u0422\\u0438\\u043f\\u043e\\u0432\\u043e\\u0439\",\"\\u0422\\u0438\\u043f\\u043e\\u0432\\u043e\\u0439\",\"\\u0422\\u0438\\u043f\\u043e\\u0432\\u043e\\u0439\",\"\\u0422\\u0438\\u043f\\u043e\\u0432\\u043e\\u0439\",\"\\u0422\\u0438\\u043f\\u043e\\u0432\\u043e\\u0439\",\"\\u0422\\u0438\\u043f\\u043e\\u0432\\u043e\\u0439\",\"\\u0422\\u0438\\u043f\\u043e\\u0432\\u043e\\u0439\",\"\\u0422\\u0438\\u043f\\u043e\\u0432\\u043e\\u0439\",\"\\u0422\\u0438\\u043f\\u043e\\u0432\\u043e\\u0439\",\"\\u0422\\u0438\\u043f\\u043e\\u0432\\u043e\\u0439\",\"\\u0422\\u0438\\u043f\\u043e\\u0432\\u043e\\u0439\",\"\\u0422\\u0438\\u043f\\u043e\\u0432\\u043e\\u0439\",\"\\u0422\\u0438\\u043f\\u043e\\u0432\\u043e\\u0439\",\"\\u0422\\u0438\\u043f\\u043e\\u0432\\u043e\\u0439\",\"\\u0422\\u0438\\u043f\\u043e\\u0432\\u043e\\u0439\",\"\\u0422\\u0438\\u043f\\u043e\\u0432\\u043e\\u0439\",\"\\u0422\\u0438\\u043f\\u043e\\u0432\\u043e\\u0439\",\"\\u0422\\u0438\\u043f\\u043e\\u0432\\u043e\\u0439\",\"\\u0422\\u0438\\u043f\\u043e\\u0432\\u043e\\u0439\",\"\\u0422\\u0438\\u043f\\u043e\\u0432\\u043e\\u0439\",\"\\u0422\\u0438\\u043f\\u043e\\u0432\\u043e\\u0439\",\"\\u0422\\u0438\\u043f\\u043e\\u0432\\u043e\\u0439\",\"\\u0422\\u0438\\u043f\\u043e\\u0432\\u043e\\u0439\",\"\\u0422\\u0438\\u043f\\u043e\\u0432\\u043e\\u0439\",\"\\u0422\\u0438\\u043f\\u043e\\u0432\\u043e\\u0439\",\"\\u0422\\u0438\\u043f\\u043e\\u0432\\u043e\\u0439\",\"\\u0422\\u0438\\u043f\\u043e\\u0432\\u043e\\u0439\",\"\\u0422\\u0438\\u043f\\u043e\\u0432\\u043e\\u0439\",\"\\u0422\\u0438\\u043f\\u043e\\u0432\\u043e\\u0439\",\"\\u0422\\u0438\\u043f\\u043e\\u0432\\u043e\\u0439\",\"\\u0422\\u0438\\u043f\\u043e\\u0432\\u043e\\u0439\",\"\\u0422\\u0438\\u043f\\u043e\\u0432\\u043e\\u0439\",\"\\u0422\\u0438\\u043f\\u043e\\u0432\\u043e\\u0439\",\"\\u0422\\u0438\\u043f\\u043e\\u0432\\u043e\\u0439\",\"\\u0422\\u0438\\u043f\\u043e\\u0432\\u043e\\u0439\",\"\\u0422\\u0438\\u043f\\u043e\\u0432\\u043e\\u0439\",\"\\u0422\\u0438\\u043f\\u043e\\u0432\\u043e\\u0439\",\"\\u0422\\u0438\\u043f\\u043e\\u0432\\u043e\\u0439\",\"\\u0422\\u0438\\u043f\\u043e\\u0432\\u043e\\u0439\",\"\\u0422\\u0438\\u043f\\u043e\\u0432\\u043e\\u0439\",\"\\u0422\\u0438\\u043f\\u043e\\u0432\\u043e\\u0439\",\"\\u0422\\u0438\\u043f\\u043e\\u0432\\u043e\\u0439\",\"\\u0422\\u0438\\u043f\\u043e\\u0432\\u043e\\u0439\",\"\\u0422\\u0438\\u043f\\u043e\\u0432\\u043e\\u0439\",\"\\u0422\\u0438\\u043f\\u043e\\u0432\\u043e\\u0439\",\"\\u0422\\u0438\\u043f\\u043e\\u0432\\u043e\\u0439\",\"\\u0422\\u0438\\u043f\\u043e\\u0432\\u043e\\u0439\",\"\\u0422\\u0438\\u043f\\u043e\\u0432\\u043e\\u0439\",\"\\u0422\\u0438\\u043f\\u043e\\u0432\\u043e\\u0439\",\"\\u0422\\u0438\\u043f\\u043e\\u0432\\u043e\\u0439\",\"\\u0422\\u0438\\u043f\\u043e\\u0432\\u043e\\u0439\",\"\\u0422\\u0438\\u043f\\u043e\\u0432\\u043e\\u0439\",\"\\u0422\\u0438\\u043f\\u043e\\u0432\\u043e\\u0439\",\"\\u0422\\u0438\\u043f\\u043e\\u0432\\u043e\\u0439\",\"\\u0422\\u0438\\u043f\\u043e\\u0432\\u043e\\u0439\",\"\\u0422\\u0438\\u043f\\u043e\\u0432\\u043e\\u0439\",\"\\u0422\\u0438\\u043f\\u043e\\u0432\\u043e\\u0439\",\"\\u0422\\u0438\\u043f\\u043e\\u0432\\u043e\\u0439\",\"\\u0422\\u0438\\u043f\\u043e\\u0432\\u043e\\u0439\",\"\\u0422\\u0438\\u043f\\u043e\\u0432\\u043e\\u0439\",\"\\u0422\\u0438\\u043f\\u043e\\u0432\\u043e\\u0439\",\"\\u0422\\u0438\\u043f\\u043e\\u0432\\u043e\\u0439\",\"\\u0422\\u0438\\u043f\\u043e\\u0432\\u043e\\u0439\",\"\\u0422\\u0438\\u043f\\u043e\\u0432\\u043e\\u0439\",\"\\u0422\\u0438\\u043f\\u043e\\u0432\\u043e\\u0439\",\"\\u0422\\u0438\\u043f\\u043e\\u0432\\u043e\\u0439\",\"\\u0422\\u0438\\u043f\\u043e\\u0432\\u043e\\u0439\",\"\\u0422\\u0438\\u043f\\u043e\\u0432\\u043e\\u0439\",\"\\u0422\\u0438\\u043f\\u043e\\u0432\\u043e\\u0439\",\"\\u0422\\u0438\\u043f\\u043e\\u0432\\u043e\\u0439\",\"\\u0422\\u0438\\u043f\\u043e\\u0432\\u043e\\u0439\",\"\\u0422\\u0438\\u043f\\u043e\\u0432\\u043e\\u0439\",\"\\u0422\\u0438\\u043f\\u043e\\u0432\\u043e\\u0439\",\"\\u0422\\u0438\\u043f\\u043e\\u0432\\u043e\\u0439\",\"\\u0422\\u0438\\u043f\\u043e\\u0432\\u043e\\u0439\",\"\\u0422\\u0438\\u043f\\u043e\\u0432\\u043e\\u0439\",\"\\u0422\\u0438\\u043f\\u043e\\u0432\\u043e\\u0439\",\"\\u0422\\u0438\\u043f\\u043e\\u0432\\u043e\\u0439\",\"\\u0422\\u0438\\u043f\\u043e\\u0432\\u043e\\u0439\",\"\\u0422\\u0438\\u043f\\u043e\\u0432\\u043e\\u0439\",\"\\u0422\\u0438\\u043f\\u043e\\u0432\\u043e\\u0439\",\"\\u0422\\u0438\\u043f\\u043e\\u0432\\u043e\\u0439\",\"\\u0422\\u0438\\u043f\\u043e\\u0432\\u043e\\u0439\",\"\\u0422\\u0438\\u043f\\u043e\\u0432\\u043e\\u0439\",\"\\u0422\\u0438\\u043f\\u043e\\u0432\\u043e\\u0439\",\"\\u0422\\u0438\\u043f\\u043e\\u0432\\u043e\\u0439\",\"\\u0422\\u0438\\u043f\\u043e\\u0432\\u043e\\u0439\",\"\\u0422\\u0438\\u043f\\u043e\\u0432\\u043e\\u0439\",\"\\u0422\\u0438\\u043f\\u043e\\u0432\\u043e\\u0439\",\"\\u0422\\u0438\\u043f\\u043e\\u0432\\u043e\\u0439\",\"\\u0422\\u0438\\u043f\\u043e\\u0432\\u043e\\u0439\",\"\\u0422\\u0438\\u043f\\u043e\\u0432\\u043e\\u0439\",\"\\u0422\\u0438\\u043f\\u043e\\u0432\\u043e\\u0439\",\"\\u0422\\u0438\\u043f\\u043e\\u0432\\u043e\\u0439\",\"\\u0422\\u0438\\u043f\\u043e\\u0432\\u043e\\u0439\",\"\\u0422\\u0438\\u043f\\u043e\\u0432\\u043e\\u0439\",\"\\u0422\\u0438\\u043f\\u043e\\u0432\\u043e\\u0439\",\"\\u0422\\u0438\\u043f\\u043e\\u0432\\u043e\\u0439\",\"\\u0422\\u0438\\u043f\\u043e\\u0432\\u043e\\u0439\",\"\\u0422\\u0438\\u043f\\u043e\\u0432\\u043e\\u0439\",\"\\u0422\\u0438\\u043f\\u043e\\u0432\\u043e\\u0439\",\"\\u0422\\u0438\\u043f\\u043e\\u0432\\u043e\\u0439\",\"\\u0422\\u0438\\u043f\\u043e\\u0432\\u043e\\u0439\",\"\\u0422\\u0438\\u043f\\u043e\\u0432\\u043e\\u0439\",\"\\u0422\\u0438\\u043f\\u043e\\u0432\\u043e\\u0439\",\"\\u0422\\u0438\\u043f\\u043e\\u0432\\u043e\\u0439\",\"\\u0422\\u0438\\u043f\\u043e\\u0432\\u043e\\u0439\",\"\\u0422\\u0438\\u043f\\u043e\\u0432\\u043e\\u0439\",\"\\u0422\\u0438\\u043f\\u043e\\u0432\\u043e\\u0439\",\"\\u0422\\u0438\\u043f\\u043e\\u0432\\u043e\\u0439\",\"\\u0422\\u0438\\u043f\\u043e\\u0432\\u043e\\u0439\",\"\\u0422\\u0438\\u043f\\u043e\\u0432\\u043e\\u0439\",\"\\u0422\\u0438\\u043f\\u043e\\u0432\\u043e\\u0439\",\"\\u0422\\u0438\\u043f\\u043e\\u0432\\u043e\\u0439\",\"\\u0422\\u0438\\u043f\\u043e\\u0432\\u043e\\u0439\",\"\\u0422\\u0438\\u043f\\u043e\\u0432\\u043e\\u0439\",\"\\u0422\\u0438\\u043f\\u043e\\u0432\\u043e\\u0439\",\"\\u0422\\u0438\\u043f\\u043e\\u0432\\u043e\\u0439\",\"\\u0422\\u0438\\u043f\\u043e\\u0432\\u043e\\u0439\",\"\\u0422\\u0438\\u043f\\u043e\\u0432\\u043e\\u0439\",\"\\u0422\\u0438\\u043f\\u043e\\u0432\\u043e\\u0439\",\"\\u0422\\u0438\\u043f\\u043e\\u0432\\u043e\\u0439\",\"\\u0422\\u0438\\u043f\\u043e\\u0432\\u043e\\u0439\",\"\\u0422\\u0438\\u043f\\u043e\\u0432\\u043e\\u0439\",\"\\u0422\\u0438\\u043f\\u043e\\u0432\\u043e\\u0439\",\"\\u0422\\u0438\\u043f\\u043e\\u0432\\u043e\\u0439\",\"\\u0422\\u0438\\u043f\\u043e\\u0432\\u043e\\u0439\",\"\\u0422\\u0438\\u043f\\u043e\\u0432\\u043e\\u0439\",\"\\u0422\\u0438\\u043f\\u043e\\u0432\\u043e\\u0439\",\"\\u0422\\u0438\\u043f\\u043e\\u0432\\u043e\\u0439\",\"\\u0422\\u0438\\u043f\\u043e\\u0432\\u043e\\u0439\",\"\\u0422\\u0438\\u043f\\u043e\\u0432\\u043e\\u0439\",\"\\u0422\\u0438\\u043f\\u043e\\u0432\\u043e\\u0439\",\"\\u0422\\u0438\\u043f\\u043e\\u0432\\u043e\\u0439\",\"\\u0422\\u0438\\u043f\\u043e\\u0432\\u043e\\u0439\",\"\\u0422\\u0438\\u043f\\u043e\\u0432\\u043e\\u0439\",\"\\u0422\\u0438\\u043f\\u043e\\u0432\\u043e\\u0439\",\"\\u0422\\u0438\\u043f\\u043e\\u0432\\u043e\\u0439\",\"\\u0422\\u0438\\u043f\\u043e\\u0432\\u043e\\u0439\",\"\\u0422\\u0438\\u043f\\u043e\\u0432\\u043e\\u0439\",\"\\u0422\\u0438\\u043f\\u043e\\u0432\\u043e\\u0439\",\"\\u0422\\u0438\\u043f\\u043e\\u0432\\u043e\\u0439\",\"\\u0422\\u0438\\u043f\\u043e\\u0432\\u043e\\u0439\",\"\\u0422\\u0438\\u043f\\u043e\\u0432\\u043e\\u0439\",\"\\u0422\\u0438\\u043f\\u043e\\u0432\\u043e\\u0439\",\"\\u0422\\u0438\\u043f\\u043e\\u0432\\u043e\\u0439\",\"\\u0422\\u0438\\u043f\\u043e\\u0432\\u043e\\u0439\",\"\\u0422\\u0438\\u043f\\u043e\\u0432\\u043e\\u0439\",\"\\u0422\\u0438\\u043f\\u043e\\u0432\\u043e\\u0439\",\"\\u0422\\u0438\\u043f\\u043e\\u0432\\u043e\\u0439\",\"\\u0422\\u0438\\u043f\\u043e\\u0432\\u043e\\u0439\",\"\\u0422\\u0438\\u043f\\u043e\\u0432\\u043e\\u0439\",\"\\u0422\\u0438\\u043f\\u043e\\u0432\\u043e\\u0439\",\"\\u0422\\u0438\\u043f\\u043e\\u0432\\u043e\\u0439\",\"\\u0422\\u0438\\u043f\\u043e\\u0432\\u043e\\u0439\",\"\\u0422\\u0438\\u043f\\u043e\\u0432\\u043e\\u0439\",\"\\u0422\\u0438\\u043f\\u043e\\u0432\\u043e\\u0439\",\"\\u0422\\u0438\\u043f\\u043e\\u0432\\u043e\\u0439\",\"\\u0422\\u0438\\u043f\\u043e\\u0432\\u043e\\u0439\",\"\\u0422\\u0438\\u043f\\u043e\\u0432\\u043e\\u0439\",\"\\u0422\\u0438\\u043f\\u043e\\u0432\\u043e\\u0439\",\"\\u0422\\u0438\\u043f\\u043e\\u0432\\u043e\\u0439\",\"\\u0422\\u0438\\u043f\\u043e\\u0432\\u043e\\u0439\",\"\\u0422\\u0438\\u043f\\u043e\\u0432\\u043e\\u0439\",\"\\u0422\\u0438\\u043f\\u043e\\u0432\\u043e\\u0439\",\"\\u0422\\u0438\\u043f\\u043e\\u0432\\u043e\\u0439\",\"\\u0422\\u0438\\u043f\\u043e\\u0432\\u043e\\u0439\",\"\\u0422\\u0438\\u043f\\u043e\\u0432\\u043e\\u0439\",\"\\u0422\\u0438\\u043f\\u043e\\u0432\\u043e\\u0439\",\"\\u0422\\u0438\\u043f\\u043e\\u0432\\u043e\\u0439\",\"\\u0422\\u0438\\u043f\\u043e\\u0432\\u043e\\u0439\",\"\\u0422\\u0438\\u043f\\u043e\\u0432\\u043e\\u0439\",\"\\u0422\\u0438\\u043f\\u043e\\u0432\\u043e\\u0439\",\"\\u0422\\u0438\\u043f\\u043e\\u0432\\u043e\\u0439\",\"\\u0422\\u0438\\u043f\\u043e\\u0432\\u043e\\u0439\",\"\\u0422\\u0438\\u043f\\u043e\\u0432\\u043e\\u0439\",\"\\u0422\\u0438\\u043f\\u043e\\u0432\\u043e\\u0439\",\"\\u0422\\u0438\\u043f\\u043e\\u0432\\u043e\\u0439\",\"\\u0422\\u0438\\u043f\\u043e\\u0432\\u043e\\u0439\",\"\\u0422\\u0438\\u043f\\u043e\\u0432\\u043e\\u0439\",\"\\u0422\\u0438\\u043f\\u043e\\u0432\\u043e\\u0439\",\"\\u0422\\u0438\\u043f\\u043e\\u0432\\u043e\\u0439\",\"\\u0422\\u0438\\u043f\\u043e\\u0432\\u043e\\u0439\",\"\\u0422\\u0438\\u043f\\u043e\\u0432\\u043e\\u0439\",\"\\u0422\\u0438\\u043f\\u043e\\u0432\\u043e\\u0439\",\"\\u0422\\u0438\\u043f\\u043e\\u0432\\u043e\\u0439\",\"\\u0422\\u0438\\u043f\\u043e\\u0432\\u043e\\u0439\",\"\\u0422\\u0438\\u043f\\u043e\\u0432\\u043e\\u0439\",\"\\u0422\\u0438\\u043f\\u043e\\u0432\\u043e\\u0439\",\"\\u0422\\u0438\\u043f\\u043e\\u0432\\u043e\\u0439\",\"\\u0422\\u0438\\u043f\\u043e\\u0432\\u043e\\u0439\",\"\\u0422\\u0438\\u043f\\u043e\\u0432\\u043e\\u0439\"],\"x0\":\" \",\"xaxis\":\"x\",\"y\":[null,null,null,null,null,null,null,null,null,null,null,null,null,null,null,null,null,null,null,null,null,null,null,null,null,null,null,null,null,null,null,null,null,null,null,null,null,null,null,null,null,null,null,null,null,null,null,null,null,null,null,null,null,null,null,null,null,null,null,null,null,null,null,null,null,null,null,null,null,null,null,null,null,null,null,null,null,null,null,null,null,null,null,null,null,null,null,null,null,null,null,null,null,null,null,null,null,null,null,null,null,null,null,null,null,null,null,null,null,null,254428.0,120804.0,120352.0,120784.0,182406.0,228738.0,216580.0,120300.0,203841.0,198403.0,303373.0,213254.0,247254.0,214389.0,222252.0,187818.0,null,202422.0,247343.0,214258.0,190317.0,190923.0,186554.0,197339.0,40330.0,244575.0,233750.0,236525.0,228487.0,300889.0,282456.0,244033.0,null,null,205121.0,252913.0,248959.0,228264.0,195627.0,240736.0,null,258897.0,null,252447.0,254755.0,189367.0,187870.0,205722.0,202771.0,258475.0,314391.0,321675.0,209279.0,193986.0,224304.0,170098.0,218143.0,223958.0,295000.0,287178.0,327756.0,264012.0,213303.0,null,229651.0,280104.0,298248.0,229325.0,257078.0,265930.0,275480.0,null,201300.0,259903.0,257671.0,201300.0,254965.0,214844.0,255690.0,286296.0,null,null,256144.0,269617.0,149192.0,228271.0,203627.0,203014.0,193667.0,215587.0,221620.0,264738.0,247898.0,251128.0,274295.0,234545.0,259453.0,230313.0,233137.0,null,null,236265.0,309788.0,287250.0,244159.0,333242.0,294912.0,null,223643.0,216143.0,271395.0,226084.0,209525.0,177125.0,203116.0,202064.0,218892.0,222996.0,167818.0,184327.0,207180.0,174656.0,209006.0,169582.0,200000.0,162311.0,202574.0,200000.0,186576.0,176257.0,203019.0,180340.0,231963.0,224036.0,166794.0,197152.0,null,156431.0,169394.0,168048.0,165797.0,185602.0,209961.0,197720.0,235218.0,null,null,212522.0,197091.0,231224.0,200151.0,91670.0,288929.0,291620.0,270978.0,233121.0,209353.0,275119.0,298146.0,318979.0,188326.0,186875.0,184052.0,214396.0,210167.0,207387.0,227457.0,242143.0,244058.0,233019.0,211689.0,234352.0,254268.0,249107.0,255000.0,257315.0,250302.0,225342.0,259967.0,275746.0,294395.0,null,298034.0,288586.0,289315.0,305587.0,320298.0,208163.0,249097.0],\"y0\":\" \",\"yaxis\":\"y\",\"type\":\"box\"},{\"alignmentgroup\":\"True\",\"hovertemplate\":\"\\u041a\\u043b\\u0430\\u0441\\u0441 \\u043d\\u0435\\u0434\\u0432\\u0438\\u0436\\u0438\\u043c\\u043e\\u0441\\u0442\\u0438=%{x}<br>\\u0421\\u0440\\u0435\\u0434\\u043d\\u044f\\u044f \\u0446\\u0435\\u043d\\u0430 \\u0437\\u0430 \\u043a\\u0432\\u0430\\u0434\\u0440\\u0430\\u0442\\u043d\\u044b\\u0439 \\u043c\\u0435\\u0442\\u0440=%{y}<extra></extra>\",\"legendgroup\":\"\\u042d\\u043b\\u0438\\u0442\\u043d\\u044b\\u0439\",\"marker\":{\"color\":\"#ab63fa\"},\"name\":\"\\u042d\\u043b\\u0438\\u0442\\u043d\\u044b\\u0439\",\"notched\":false,\"offsetgroup\":\"\\u042d\\u043b\\u0438\\u0442\\u043d\\u044b\\u0439\",\"orientation\":\"v\",\"showlegend\":true,\"x\":[\"\\u042d\\u043b\\u0438\\u0442\\u043d\\u044b\\u0439\",\"\\u042d\\u043b\\u0438\\u0442\\u043d\\u044b\\u0439\",\"\\u042d\\u043b\\u0438\\u0442\\u043d\\u044b\\u0439\",\"\\u042d\\u043b\\u0438\\u0442\\u043d\\u044b\\u0439\",\"\\u042d\\u043b\\u0438\\u0442\\u043d\\u044b\\u0439\",\"\\u042d\\u043b\\u0438\\u0442\\u043d\\u044b\\u0439\",\"\\u042d\\u043b\\u0438\\u0442\\u043d\\u044b\\u0439\",\"\\u042d\\u043b\\u0438\\u0442\\u043d\\u044b\\u0439\",\"\\u042d\\u043b\\u0438\\u0442\\u043d\\u044b\\u0439\",\"\\u042d\\u043b\\u0438\\u0442\\u043d\\u044b\\u0439\",\"\\u042d\\u043b\\u0438\\u0442\\u043d\\u044b\\u0439\",\"\\u042d\\u043b\\u0438\\u0442\\u043d\\u044b\\u0439\",\"\\u042d\\u043b\\u0438\\u0442\\u043d\\u044b\\u0439\",\"\\u042d\\u043b\\u0438\\u0442\\u043d\\u044b\\u0439\",\"\\u042d\\u043b\\u0438\\u0442\\u043d\\u044b\\u0439\",\"\\u042d\\u043b\\u0438\\u0442\\u043d\\u044b\\u0439\",\"\\u042d\\u043b\\u0438\\u0442\\u043d\\u044b\\u0439\",\"\\u042d\\u043b\\u0438\\u0442\\u043d\\u044b\\u0439\",\"\\u042d\\u043b\\u0438\\u0442\\u043d\\u044b\\u0439\",\"\\u042d\\u043b\\u0438\\u0442\\u043d\\u044b\\u0439\",\"\\u042d\\u043b\\u0438\\u0442\\u043d\\u044b\\u0439\",\"\\u042d\\u043b\\u0438\\u0442\\u043d\\u044b\\u0439\",\"\\u042d\\u043b\\u0438\\u0442\\u043d\\u044b\\u0439\",\"\\u042d\\u043b\\u0438\\u0442\\u043d\\u044b\\u0439\",\"\\u042d\\u043b\\u0438\\u0442\\u043d\\u044b\\u0439\",\"\\u042d\\u043b\\u0438\\u0442\\u043d\\u044b\\u0439\",\"\\u042d\\u043b\\u0438\\u0442\\u043d\\u044b\\u0439\",\"\\u042d\\u043b\\u0438\\u0442\\u043d\\u044b\\u0439\",\"\\u042d\\u043b\\u0438\\u0442\\u043d\\u044b\\u0439\",\"\\u042d\\u043b\\u0438\\u0442\\u043d\\u044b\\u0439\",\"\\u042d\\u043b\\u0438\\u0442\\u043d\\u044b\\u0439\",\"\\u042d\\u043b\\u0438\\u0442\\u043d\\u044b\\u0439\",\"\\u042d\\u043b\\u0438\\u0442\\u043d\\u044b\\u0439\",\"\\u042d\\u043b\\u0438\\u0442\\u043d\\u044b\\u0439\",\"\\u042d\\u043b\\u0438\\u0442\\u043d\\u044b\\u0439\",\"\\u042d\\u043b\\u0438\\u0442\\u043d\\u044b\\u0439\",\"\\u042d\\u043b\\u0438\\u0442\\u043d\\u044b\\u0439\",\"\\u042d\\u043b\\u0438\\u0442\\u043d\\u044b\\u0439\",\"\\u042d\\u043b\\u0438\\u0442\\u043d\\u044b\\u0439\",\"\\u042d\\u043b\\u0438\\u0442\\u043d\\u044b\\u0439\",\"\\u042d\\u043b\\u0438\\u0442\\u043d\\u044b\\u0439\",\"\\u042d\\u043b\\u0438\\u0442\\u043d\\u044b\\u0439\",\"\\u042d\\u043b\\u0438\\u0442\\u043d\\u044b\\u0439\",\"\\u042d\\u043b\\u0438\\u0442\\u043d\\u044b\\u0439\",\"\\u042d\\u043b\\u0438\\u0442\\u043d\\u044b\\u0439\",\"\\u042d\\u043b\\u0438\\u0442\\u043d\\u044b\\u0439\",\"\\u042d\\u043b\\u0438\\u0442\\u043d\\u044b\\u0439\",\"\\u042d\\u043b\\u0438\\u0442\\u043d\\u044b\\u0439\",\"\\u042d\\u043b\\u0438\\u0442\\u043d\\u044b\\u0439\",\"\\u042d\\u043b\\u0438\\u0442\\u043d\\u044b\\u0439\",\"\\u042d\\u043b\\u0438\\u0442\\u043d\\u044b\\u0439\",\"\\u042d\\u043b\\u0438\\u0442\\u043d\\u044b\\u0439\",\"\\u042d\\u043b\\u0438\\u0442\\u043d\\u044b\\u0439\",\"\\u042d\\u043b\\u0438\\u0442\\u043d\\u044b\\u0439\",\"\\u042d\\u043b\\u0438\\u0442\\u043d\\u044b\\u0439\",\"\\u042d\\u043b\\u0438\\u0442\\u043d\\u044b\\u0439\",\"\\u042d\\u043b\\u0438\\u0442\\u043d\\u044b\\u0439\",\"\\u042d\\u043b\\u0438\\u0442\\u043d\\u044b\\u0439\",\"\\u042d\\u043b\\u0438\\u0442\\u043d\\u044b\\u0439\",\"\\u042d\\u043b\\u0438\\u0442\\u043d\\u044b\\u0439\",\"\\u042d\\u043b\\u0438\\u0442\\u043d\\u044b\\u0439\",\"\\u042d\\u043b\\u0438\\u0442\\u043d\\u044b\\u0439\",\"\\u042d\\u043b\\u0438\\u0442\\u043d\\u044b\\u0439\",\"\\u042d\\u043b\\u0438\\u0442\\u043d\\u044b\\u0439\",\"\\u042d\\u043b\\u0438\\u0442\\u043d\\u044b\\u0439\",\"\\u042d\\u043b\\u0438\\u0442\\u043d\\u044b\\u0439\",\"\\u042d\\u043b\\u0438\\u0442\\u043d\\u044b\\u0439\"],\"x0\":\" \",\"xaxis\":\"x\",\"y\":[544493.0,null,1581363.0,799574.0,2566412.0,432980.0,434690.0,386747.0,1228675.0,119475.0,1017003.0,null,null,null,894915.0,null,432673.0,418350.0,450000.0,450000.0,450000.0,522203.0,538132.0,372962.0,434575.0,440969.0,459272.0,925222.0,468000.0,660308.0,1027032.0,588668.0,308087.0,120000.0,567649.0,531730.0,629310.0,614444.0,615714.0,445572.0,381331.0,1598926.0,680741.0,null,1702937.0,null,null,394842.0,364366.0,406361.0,374217.0,320753.0,640359.0,null,489590.0,466944.0,555861.0,463113.0,593294.0,620010.0,1358174.0,320202.0,1887893.0,736000.0,700306.0,434396.0,1170626.0],\"y0\":\" \",\"yaxis\":\"y\",\"type\":\"box\"}],                        {\"template\":{\"data\":{\"histogram2dcontour\":[{\"type\":\"histogram2dcontour\",\"colorbar\":{\"outlinewidth\":0,\"ticks\":\"\"},\"colorscale\":[[0.0,\"#0d0887\"],[0.1111111111111111,\"#46039f\"],[0.2222222222222222,\"#7201a8\"],[0.3333333333333333,\"#9c179e\"],[0.4444444444444444,\"#bd3786\"],[0.5555555555555556,\"#d8576b\"],[0.6666666666666666,\"#ed7953\"],[0.7777777777777778,\"#fb9f3a\"],[0.8888888888888888,\"#fdca26\"],[1.0,\"#f0f921\"]]}],\"choropleth\":[{\"type\":\"choropleth\",\"colorbar\":{\"outlinewidth\":0,\"ticks\":\"\"}}],\"histogram2d\":[{\"type\":\"histogram2d\",\"colorbar\":{\"outlinewidth\":0,\"ticks\":\"\"},\"colorscale\":[[0.0,\"#0d0887\"],[0.1111111111111111,\"#46039f\"],[0.2222222222222222,\"#7201a8\"],[0.3333333333333333,\"#9c179e\"],[0.4444444444444444,\"#bd3786\"],[0.5555555555555556,\"#d8576b\"],[0.6666666666666666,\"#ed7953\"],[0.7777777777777778,\"#fb9f3a\"],[0.8888888888888888,\"#fdca26\"],[1.0,\"#f0f921\"]]}],\"heatmap\":[{\"type\":\"heatmap\",\"colorbar\":{\"outlinewidth\":0,\"ticks\":\"\"},\"colorscale\":[[0.0,\"#0d0887\"],[0.1111111111111111,\"#46039f\"],[0.2222222222222222,\"#7201a8\"],[0.3333333333333333,\"#9c179e\"],[0.4444444444444444,\"#bd3786\"],[0.5555555555555556,\"#d8576b\"],[0.6666666666666666,\"#ed7953\"],[0.7777777777777778,\"#fb9f3a\"],[0.8888888888888888,\"#fdca26\"],[1.0,\"#f0f921\"]]}],\"heatmapgl\":[{\"type\":\"heatmapgl\",\"colorbar\":{\"outlinewidth\":0,\"ticks\":\"\"},\"colorscale\":[[0.0,\"#0d0887\"],[0.1111111111111111,\"#46039f\"],[0.2222222222222222,\"#7201a8\"],[0.3333333333333333,\"#9c179e\"],[0.4444444444444444,\"#bd3786\"],[0.5555555555555556,\"#d8576b\"],[0.6666666666666666,\"#ed7953\"],[0.7777777777777778,\"#fb9f3a\"],[0.8888888888888888,\"#fdca26\"],[1.0,\"#f0f921\"]]}],\"contourcarpet\":[{\"type\":\"contourcarpet\",\"colorbar\":{\"outlinewidth\":0,\"ticks\":\"\"}}],\"contour\":[{\"type\":\"contour\",\"colorbar\":{\"outlinewidth\":0,\"ticks\":\"\"},\"colorscale\":[[0.0,\"#0d0887\"],[0.1111111111111111,\"#46039f\"],[0.2222222222222222,\"#7201a8\"],[0.3333333333333333,\"#9c179e\"],[0.4444444444444444,\"#bd3786\"],[0.5555555555555556,\"#d8576b\"],[0.6666666666666666,\"#ed7953\"],[0.7777777777777778,\"#fb9f3a\"],[0.8888888888888888,\"#fdca26\"],[1.0,\"#f0f921\"]]}],\"surface\":[{\"type\":\"surface\",\"colorbar\":{\"outlinewidth\":0,\"ticks\":\"\"},\"colorscale\":[[0.0,\"#0d0887\"],[0.1111111111111111,\"#46039f\"],[0.2222222222222222,\"#7201a8\"],[0.3333333333333333,\"#9c179e\"],[0.4444444444444444,\"#bd3786\"],[0.5555555555555556,\"#d8576b\"],[0.6666666666666666,\"#ed7953\"],[0.7777777777777778,\"#fb9f3a\"],[0.8888888888888888,\"#fdca26\"],[1.0,\"#f0f921\"]]}],\"mesh3d\":[{\"type\":\"mesh3d\",\"colorbar\":{\"outlinewidth\":0,\"ticks\":\"\"}}],\"scatter\":[{\"fillpattern\":{\"fillmode\":\"overlay\",\"size\":10,\"solidity\":0.2},\"type\":\"scatter\"}],\"parcoords\":[{\"type\":\"parcoords\",\"line\":{\"colorbar\":{\"outlinewidth\":0,\"ticks\":\"\"}}}],\"scatterpolargl\":[{\"type\":\"scatterpolargl\",\"marker\":{\"colorbar\":{\"outlinewidth\":0,\"ticks\":\"\"}}}],\"bar\":[{\"error_x\":{\"color\":\"#2a3f5f\"},\"error_y\":{\"color\":\"#2a3f5f\"},\"marker\":{\"line\":{\"color\":\"#E5ECF6\",\"width\":0.5},\"pattern\":{\"fillmode\":\"overlay\",\"size\":10,\"solidity\":0.2}},\"type\":\"bar\"}],\"scattergeo\":[{\"type\":\"scattergeo\",\"marker\":{\"colorbar\":{\"outlinewidth\":0,\"ticks\":\"\"}}}],\"scatterpolar\":[{\"type\":\"scatterpolar\",\"marker\":{\"colorbar\":{\"outlinewidth\":0,\"ticks\":\"\"}}}],\"histogram\":[{\"marker\":{\"pattern\":{\"fillmode\":\"overlay\",\"size\":10,\"solidity\":0.2}},\"type\":\"histogram\"}],\"scattergl\":[{\"type\":\"scattergl\",\"marker\":{\"colorbar\":{\"outlinewidth\":0,\"ticks\":\"\"}}}],\"scatter3d\":[{\"type\":\"scatter3d\",\"line\":{\"colorbar\":{\"outlinewidth\":0,\"ticks\":\"\"}},\"marker\":{\"colorbar\":{\"outlinewidth\":0,\"ticks\":\"\"}}}],\"scattermapbox\":[{\"type\":\"scattermapbox\",\"marker\":{\"colorbar\":{\"outlinewidth\":0,\"ticks\":\"\"}}}],\"scatterternary\":[{\"type\":\"scatterternary\",\"marker\":{\"colorbar\":{\"outlinewidth\":0,\"ticks\":\"\"}}}],\"scattercarpet\":[{\"type\":\"scattercarpet\",\"marker\":{\"colorbar\":{\"outlinewidth\":0,\"ticks\":\"\"}}}],\"carpet\":[{\"aaxis\":{\"endlinecolor\":\"#2a3f5f\",\"gridcolor\":\"white\",\"linecolor\":\"white\",\"minorgridcolor\":\"white\",\"startlinecolor\":\"#2a3f5f\"},\"baxis\":{\"endlinecolor\":\"#2a3f5f\",\"gridcolor\":\"white\",\"linecolor\":\"white\",\"minorgridcolor\":\"white\",\"startlinecolor\":\"#2a3f5f\"},\"type\":\"carpet\"}],\"table\":[{\"cells\":{\"fill\":{\"color\":\"#EBF0F8\"},\"line\":{\"color\":\"white\"}},\"header\":{\"fill\":{\"color\":\"#C8D4E3\"},\"line\":{\"color\":\"white\"}},\"type\":\"table\"}],\"barpolar\":[{\"marker\":{\"line\":{\"color\":\"#E5ECF6\",\"width\":0.5},\"pattern\":{\"fillmode\":\"overlay\",\"size\":10,\"solidity\":0.2}},\"type\":\"barpolar\"}],\"pie\":[{\"automargin\":true,\"type\":\"pie\"}]},\"layout\":{\"autotypenumbers\":\"strict\",\"colorway\":[\"#636efa\",\"#EF553B\",\"#00cc96\",\"#ab63fa\",\"#FFA15A\",\"#19d3f3\",\"#FF6692\",\"#B6E880\",\"#FF97FF\",\"#FECB52\"],\"font\":{\"color\":\"#2a3f5f\"},\"hovermode\":\"closest\",\"hoverlabel\":{\"align\":\"left\"},\"paper_bgcolor\":\"white\",\"plot_bgcolor\":\"#E5ECF6\",\"polar\":{\"bgcolor\":\"#E5ECF6\",\"angularaxis\":{\"gridcolor\":\"white\",\"linecolor\":\"white\",\"ticks\":\"\"},\"radialaxis\":{\"gridcolor\":\"white\",\"linecolor\":\"white\",\"ticks\":\"\"}},\"ternary\":{\"bgcolor\":\"#E5ECF6\",\"aaxis\":{\"gridcolor\":\"white\",\"linecolor\":\"white\",\"ticks\":\"\"},\"baxis\":{\"gridcolor\":\"white\",\"linecolor\":\"white\",\"ticks\":\"\"},\"caxis\":{\"gridcolor\":\"white\",\"linecolor\":\"white\",\"ticks\":\"\"}},\"coloraxis\":{\"colorbar\":{\"outlinewidth\":0,\"ticks\":\"\"}},\"colorscale\":{\"sequential\":[[0.0,\"#0d0887\"],[0.1111111111111111,\"#46039f\"],[0.2222222222222222,\"#7201a8\"],[0.3333333333333333,\"#9c179e\"],[0.4444444444444444,\"#bd3786\"],[0.5555555555555556,\"#d8576b\"],[0.6666666666666666,\"#ed7953\"],[0.7777777777777778,\"#fb9f3a\"],[0.8888888888888888,\"#fdca26\"],[1.0,\"#f0f921\"]],\"sequentialminus\":[[0.0,\"#0d0887\"],[0.1111111111111111,\"#46039f\"],[0.2222222222222222,\"#7201a8\"],[0.3333333333333333,\"#9c179e\"],[0.4444444444444444,\"#bd3786\"],[0.5555555555555556,\"#d8576b\"],[0.6666666666666666,\"#ed7953\"],[0.7777777777777778,\"#fb9f3a\"],[0.8888888888888888,\"#fdca26\"],[1.0,\"#f0f921\"]],\"diverging\":[[0,\"#8e0152\"],[0.1,\"#c51b7d\"],[0.2,\"#de77ae\"],[0.3,\"#f1b6da\"],[0.4,\"#fde0ef\"],[0.5,\"#f7f7f7\"],[0.6,\"#e6f5d0\"],[0.7,\"#b8e186\"],[0.8,\"#7fbc41\"],[0.9,\"#4d9221\"],[1,\"#276419\"]]},\"xaxis\":{\"gridcolor\":\"white\",\"linecolor\":\"white\",\"ticks\":\"\",\"title\":{\"standoff\":15},\"zerolinecolor\":\"white\",\"automargin\":true,\"zerolinewidth\":2},\"yaxis\":{\"gridcolor\":\"white\",\"linecolor\":\"white\",\"ticks\":\"\",\"title\":{\"standoff\":15},\"zerolinecolor\":\"white\",\"automargin\":true,\"zerolinewidth\":2},\"scene\":{\"xaxis\":{\"backgroundcolor\":\"#E5ECF6\",\"gridcolor\":\"white\",\"linecolor\":\"white\",\"showbackground\":true,\"ticks\":\"\",\"zerolinecolor\":\"white\",\"gridwidth\":2},\"yaxis\":{\"backgroundcolor\":\"#E5ECF6\",\"gridcolor\":\"white\",\"linecolor\":\"white\",\"showbackground\":true,\"ticks\":\"\",\"zerolinecolor\":\"white\",\"gridwidth\":2},\"zaxis\":{\"backgroundcolor\":\"#E5ECF6\",\"gridcolor\":\"white\",\"linecolor\":\"white\",\"showbackground\":true,\"ticks\":\"\",\"zerolinecolor\":\"white\",\"gridwidth\":2}},\"shapedefaults\":{\"line\":{\"color\":\"#2a3f5f\"}},\"annotationdefaults\":{\"arrowcolor\":\"#2a3f5f\",\"arrowhead\":0,\"arrowwidth\":1},\"geo\":{\"bgcolor\":\"white\",\"landcolor\":\"#E5ECF6\",\"subunitcolor\":\"white\",\"showland\":true,\"showlakes\":true,\"lakecolor\":\"white\"},\"title\":{\"x\":0.05},\"mapbox\":{\"style\":\"light\"}}},\"xaxis\":{\"anchor\":\"y\",\"domain\":[0.0,1.0],\"title\":{\"text\":\"\\u041a\\u043b\\u0430\\u0441\\u0441 \\u043d\\u0435\\u0434\\u0432\\u0438\\u0436\\u0438\\u043c\\u043e\\u0441\\u0442\\u0438\"},\"categoryorder\":\"array\",\"categoryarray\":[\"\\u041a\\u043e\\u043c\\u0444\\u043e\\u0440\\u0442\",\"\\u0411\\u0438\\u0437\\u043d\\u0435\\u0441\",\"\\u0422\\u0438\\u043f\\u043e\\u0432\\u043e\\u0439\",\"\\u042d\\u043b\\u0438\\u0442\\u043d\\u044b\\u0439\"]},\"yaxis\":{\"anchor\":\"x\",\"domain\":[0.0,1.0],\"title\":{\"text\":\"\\u0421\\u0440\\u0435\\u0434\\u043d\\u044f\\u044f \\u0446\\u0435\\u043d\\u0430 \\u0437\\u0430 \\u043a\\u0432\\u0430\\u0434\\u0440\\u0430\\u0442\\u043d\\u044b\\u0439 \\u043c\\u0435\\u0442\\u0440\"}},\"legend\":{\"title\":{\"text\":\"\\u041a\\u043b\\u0430\\u0441\\u0441 \\u043d\\u0435\\u0434\\u0432\\u0438\\u0436\\u0438\\u043c\\u043e\\u0441\\u0442\\u0438\"},\"tracegroupgap\":0},\"title\":{\"text\":\"\\u0420\\u0430\\u0441\\u043f\\u0440\\u0435\\u0434\\u0435\\u043b\\u0435\\u043d\\u0438\\u0435 \\u0441\\u0442\\u043e\\u0438\\u043c\\u043e\\u0441\\u0442\\u0438 \\u043a\\u0432\\u0430\\u0434\\u0440\\u0430\\u0442\\u043d\\u043e\\u0433\\u043e \\u043c\\u0435\\u0442\\u0440\\u0430 \\u043f\\u043e \\u043a\\u043b\\u0430\\u0441\\u0441\\u0430\\u043c \\u043d\\u0435\\u0434\\u0432\\u0438\\u0436\\u0438\\u043c\\u043e\\u0441\\u0442\\u0438 \\u0434\\u043b\\u044f \\u0440\\u0435\\u0433\\u0438\\u043e\\u043d\\u0430 77\"},\"boxmode\":\"overlay\"},                        {\"responsive\": true}                    ).then(function(){\n",
       "                            \n",
       "var gd = document.getElementById('861023c9-a13e-4e1c-8ca9-356f1ca340b5');\n",
       "var x = new MutationObserver(function (mutations, observer) {{\n",
       "        var display = window.getComputedStyle(gd).display;\n",
       "        if (!display || display === 'none') {{\n",
       "            console.log([gd, 'removed!']);\n",
       "            Plotly.purge(gd);\n",
       "            observer.disconnect();\n",
       "        }}\n",
       "}});\n",
       "\n",
       "// Listen for the removal of the full notebook cells\n",
       "var notebookContainer = gd.closest('#notebook-container');\n",
       "if (notebookContainer) {{\n",
       "    x.observe(notebookContainer, {childList: true});\n",
       "}}\n",
       "\n",
       "// Listen for the clearing of the current output cell\n",
       "var outputEl = gd.closest('.output');\n",
       "if (outputEl) {{\n",
       "    x.observe(outputEl, {childList: true});\n",
       "}}\n",
       "\n",
       "                        })                };                });            </script>        </div>"
      ]
     },
     "metadata": {},
     "output_type": "display_data"
    }
   ],
   "source": [
    "viz.make_boxplot()"
   ]
  },
  {
   "cell_type": "code",
   "execution_count": null,
   "metadata": {},
   "outputs": [],
   "source": []
  },
  {
   "cell_type": "code",
   "execution_count": null,
   "metadata": {},
   "outputs": [],
   "source": []
  },
  {
   "cell_type": "code",
   "execution_count": null,
   "metadata": {},
   "outputs": [],
   "source": []
  },
  {
   "cell_type": "code",
   "execution_count": null,
   "metadata": {},
   "outputs": [],
   "source": [
    "\n"
   ]
  },
  {
   "cell_type": "code",
   "execution_count": null,
   "metadata": {},
   "outputs": [],
   "source": []
  },
  {
   "cell_type": "code",
   "execution_count": null,
   "metadata": {},
   "outputs": [],
   "source": []
  },
  {
   "cell_type": "code",
   "execution_count": null,
   "metadata": {},
   "outputs": [],
   "source": []
  }
 ],
 "metadata": {
  "kernelspec": {
   "display_name": "Python 3 (ipykernel)",
   "language": "python",
   "name": "python3"
  },
  "language_info": {
   "codemirror_mode": {
    "name": "ipython",
    "version": 3
   },
   "file_extension": ".py",
   "mimetype": "text/x-python",
   "name": "python",
   "nbconvert_exporter": "python",
   "pygments_lexer": "ipython3",
   "version": "3.9.12"
  }
 },
 "nbformat": 4,
 "nbformat_minor": 1
}
