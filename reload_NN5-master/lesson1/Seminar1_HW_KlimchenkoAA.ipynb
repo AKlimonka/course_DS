{
 "cells": [
  {
   "cell_type": "code",
   "execution_count": 98,
   "metadata": {
    "executionInfo": {
     "elapsed": 254,
     "status": "ok",
     "timestamp": 1667659277719,
     "user": {
      "displayName": "Boris Zhestkov",
      "userId": "15589718157134474454"
     },
     "user_tz": -180
    },
    "id": "l-iXHAA1Fz1p"
   },
   "outputs": [],
   "source": [
    "import numpy as np\n",
    "import torch"
   ]
  },
  {
   "cell_type": "code",
   "execution_count": 74,
   "metadata": {
    "id": "RuSxPbblHJK1"
   },
   "outputs": [],
   "source": [
    "# Task 1\n",
    "# Find the roots of square equation by gradient descent\n",
    "# x ** 2 - 6 * x + 4 = 0\n"
   ]
  },
  {
   "cell_type": "code",
   "execution_count": 75,
   "metadata": {},
   "outputs": [],
   "source": [
    "#Найдем сначала корни аналитически."
   ]
  },
  {
   "cell_type": "code",
   "execution_count": 76,
   "metadata": {},
   "outputs": [
    {
     "data": {
      "text/plain": [
       "5.23606797749979"
      ]
     },
     "execution_count": 76,
     "metadata": {},
     "output_type": "execute_result"
    }
   ],
   "source": [
    "x1 = (6 + 20**0.5)/2\n",
    "x1"
   ]
  },
  {
   "cell_type": "code",
   "execution_count": 77,
   "metadata": {},
   "outputs": [
    {
     "data": {
      "text/plain": [
       "0.7639320225002102"
      ]
     },
     "execution_count": 77,
     "metadata": {},
     "output_type": "execute_result"
    }
   ],
   "source": [
    "x2 = (6 - 20**0.5)/2\n",
    "x2"
   ]
  },
  {
   "cell_type": "code",
   "execution_count": 94,
   "metadata": {},
   "outputs": [],
   "source": [
    "#а теперь перейдем к градиентному спуску."
   ]
  },
  {
   "cell_type": "code",
   "execution_count": 79,
   "metadata": {},
   "outputs": [],
   "source": [
    "lr = 0.0001"
   ]
  },
  {
   "cell_type": "code",
   "execution_count": 80,
   "metadata": {},
   "outputs": [],
   "source": [
    "# x = 5\n",
    "# f' = 4 * x**3 - 36 * x**2 + 88*x - 48"
   ]
  },
  {
   "cell_type": "code",
   "execution_count": 81,
   "metadata": {},
   "outputs": [
    {
     "name": "stdout",
     "output_type": "stream",
     "text": [
      "5.236069220150704\n",
      "0.7639307791419458\n",
      "0.7639307812727587\n",
      "0.7639307820614789\n",
      "0.7639307777509723\n",
      "0.7639307806919634\n",
      "5.236069220260979\n",
      "5.2360692207463835\n",
      "5.2360692194085665\n",
      "5.236069220349526\n"
     ]
    }
   ],
   "source": [
    "# x = 10\n",
    "f = 123\n",
    "xs = []\n",
    "for x in range(-50,50,10):\n",
    "    f = 123\n",
    "    while round(f,4) != 0:\n",
    "        f = 4 * x**3 - 36 * x**2 + 88*x - 48\n",
    "        x = x - lr * f\n",
    "    print(x)\n",
    "    xs.append(round(x,3))\n",
    "x12 = set(xs)\n",
    "  "
   ]
  },
  {
   "cell_type": "code",
   "execution_count": 82,
   "metadata": {},
   "outputs": [
    {
     "name": "stdout",
     "output_type": "stream",
     "text": [
      "{0.764, 5.236}\n"
     ]
    }
   ],
   "source": [
    "print(x12)"
   ]
  },
  {
   "cell_type": "code",
   "execution_count": 83,
   "metadata": {},
   "outputs": [],
   "source": [
    "# оба корня выше. Если большие точки брать, или большие шаги, то получается переполнение при расчете из-за больших значений. \n",
    "# и мы не сходимся к корням, а наоборот - расходимся. из разных точек мы можем прийти к разным корням."
   ]
  },
  {
   "cell_type": "code",
   "execution_count": 84,
   "metadata": {
    "id": "cJlrSHw9Fz1x"
   },
   "outputs": [],
   "source": [
    "# возвести в квадрат\n",
    "# посчитать производную\n",
    "# надо начать движение от начальной точки в направлении антградиента с заданным шагом\n",
    "# x = x - lr * grad(x)\n",
    "# всегда ли сойдемся за приемлемое количество шагов?\n",
    "# важна ли начальная точка?\n",
    "# как найти второй корень?\n",
    "# как вляет ЛР?"
   ]
  },
  {
   "cell_type": "code",
   "execution_count": 85,
   "metadata": {
    "id": "a2swiHK-HIOq"
   },
   "outputs": [],
   "source": [
    "# Task 2\n",
    "# Realize forward and backward pass for linear layer with sigmoid activation"
   ]
  },
  {
   "cell_type": "code",
   "execution_count": 86,
   "metadata": {
    "executionInfo": {
     "elapsed": 280,
     "status": "ok",
     "timestamp": 1667663676928,
     "user": {
      "displayName": "Boris Zhestkov",
      "userId": "15589718157134474454"
     },
     "user_tz": -180
    },
    "id": "ibFFthYnHIlh"
   },
   "outputs": [],
   "source": [
    "def sigmoid(x):\n",
    "    return 1. / (1 + torch.exp(-x))\n",
    "\n",
    "def sigmoid_backward(da, x):\n",
    "    sig = sigmoid(x)\n",
    "    \n",
    "    return da * sig * (1 - sig)"
   ]
  },
  {
   "cell_type": "code",
   "execution_count": 88,
   "metadata": {},
   "outputs": [],
   "source": [
    "def mse_loss(t, y):\n",
    "    return (t - y) ** 2\n",
    "\n",
    "def d_mse_loss(t, y):\n",
    "    return 2 * (y - t)"
   ]
  },
  {
   "cell_type": "code",
   "execution_count": 277,
   "metadata": {},
   "outputs": [],
   "source": [
    "class LinearLayer:\n",
    "    def __init__(self, n_inp, n_out, activation='sigmoid'):\n",
    "        self.w = torch.randn(n_out, n_inp) * 0.1\n",
    "        self.b = torch.randn(n_out, 1) * 0.1\n",
    "        if activation == 'sigmoid':\n",
    "            self.activ = sigmoid\n",
    "        elif activation == 'None':\n",
    "            self.activ = None\n",
    "        else:\n",
    "            raise Exception(f'Unknown activation \"{activation}\"')\n",
    "        self._clear_state()\n",
    "\n",
    "    def _clear_state(self):\n",
    "        self.lin = None\n",
    "        self.inp = None\n",
    "        self.d_w = None\n",
    "        self.d_b = None\n",
    "\n",
    "    def forward(self, x):\n",
    "        self.inp = x\n",
    "        self.lin = self.w @ self.inp + self.b\n",
    "        activ = self.activ(self.lin) if self.activ is not None else self.lin\n",
    "#         print(self.w.shape)\n",
    "        return activ\n",
    "\n",
    "    def backward(self, grad): # grad = d L / d z    Dout \n",
    "        # grad * dz / d lin\n",
    "        if self.activ == sigmoid:\n",
    "            grad_lin = sigmoid_backward(grad, self.lin) \n",
    "        else:\n",
    "            grad_lin = grad\n",
    "        # grad_lin * d lin / d w \n",
    "        m = self.inp.shape[1]\n",
    "        self.d_w = grad_lin @ self.inp.T / m    # d_in dOut\n",
    "        # grad_lin * d lin / d b \n",
    "        self.d_b = torch.sum(grad_lin, axis=1, keepdims=True) / m\n",
    "\n",
    "        grad = self.w.T @ grad_lin\n",
    "\n",
    "        return grad"
   ]
  },
  {
   "cell_type": "code",
   "execution_count": 158,
   "metadata": {
    "executionInfo": {
     "elapsed": 275,
     "status": "ok",
     "timestamp": 1667663288846,
     "user": {
      "displayName": "Boris Zhestkov",
      "userId": "15589718157134474454"
     },
     "user_tz": -180
    },
    "id": "jUZcVU8z2T-t"
   },
   "outputs": [],
   "source": [
    "from typing import Tuple\n",
    "\n",
    "class Model:\n",
    "    def __init__(self, arch: Tuple[Tuple[int, int]], activation):\n",
    "        self.layers = []\n",
    "        for i, p in enumerate(arch):\n",
    "            self.layers.append(\n",
    "                LinearLayer(p[0], p[1], \n",
    "                            activation=activation if i < len(arch)-1 else 'None')\n",
    "                )\n",
    "        self._clear_state()\n",
    "    \n",
    "    def _clear_state(self):\n",
    "        for l in self.layers:\n",
    "            l._clear_state()\n",
    "\n",
    "    def forward(self, x):\n",
    "        for layer in self.layers:\n",
    "            x = layer.forward(x)\n",
    "        \n",
    "        return x\n",
    "\n",
    "    def backward(self, grad):\n",
    "        for layer in reversed(self.layers):\n",
    "            grad = layer.backward(grad)\n",
    "\n",
    "        return grad "
   ]
  },
  {
   "cell_type": "code",
   "execution_count": 280,
   "metadata": {},
   "outputs": [],
   "source": [
    "class Adagrad_full:\n",
    "    def __init__(self, model: Model, lr=0.1):\n",
    "        self.lr = lr\n",
    "        self.model = model\n",
    "#         self.ac_w = np.zeros_like(model.w)\n",
    "#         self.ac_b = np.zeros_like(model.b)\n",
    "        \n",
    "        self.acc = [[torch.zeros_like(layer.w), \n",
    "                     torch.zeros_like(layer.b)] for layer in self.model.layers]\n",
    "        \n",
    "    def step(self):\n",
    "        for i, layer in enumerate(self.model.layers):\n",
    "            self.acc[i][0] = self.acc[i][0] + layer.d_w**2\n",
    "            self.acc[i][1] = self.acc[i][1] + layer.d_b**2\n",
    "            \n",
    "            adapt_lr_w = self.lr/torch.sqrt(self.acc[i][0])\n",
    "            adapt_lr_b = self.lr/torch.sqrt(self.acc[i][1])\n",
    "            \n",
    "            layer.w = layer.w - layer.d_w * adapt_lr_w\n",
    "            layer.b = layer.b - layer.d_b * adapt_lr_b\n",
    "            \n",
    "    def zero_grad(self):\n",
    "        self.model._clear_state()"
   ]
  },
  {
   "cell_type": "code",
   "execution_count": 162,
   "metadata": {
    "id": "sZPKwvE-Fz15"
   },
   "outputs": [],
   "source": [
    "# pred = model(x)\n",
    "# loss = criterion(pred, target)\n",
    "# grad = d loss / d pred\n",
    "# model.backward(grad)\n",
    "# optim.step()"
   ]
  },
  {
   "cell_type": "code",
   "execution_count": 207,
   "metadata": {},
   "outputs": [],
   "source": [
    "x = torch.rand(2000)*4-2\n",
    "y = x**2 + (torch.rand(2000)*0.1 - 0.1)"
   ]
  },
  {
   "cell_type": "code",
   "execution_count": 133,
   "metadata": {},
   "outputs": [],
   "source": [
    "# import matplotlib.pyplot as plt"
   ]
  },
  {
   "cell_type": "code",
   "execution_count": 208,
   "metadata": {},
   "outputs": [],
   "source": [
    "# plt.scatter(x,y)"
   ]
  },
  {
   "cell_type": "code",
   "execution_count": 153,
   "metadata": {},
   "outputs": [
    {
     "data": {
      "text/plain": [
       "tensor([ 1.8311,  1.7189,  1.3752,  ...,  0.5330, -1.5569, -1.6533])"
      ]
     },
     "execution_count": 153,
     "metadata": {},
     "output_type": "execute_result"
    }
   ],
   "source": [
    "x"
   ]
  },
  {
   "cell_type": "code",
   "execution_count": 281,
   "metadata": {
    "colab": {
     "base_uri": "https://localhost:8080/"
    },
    "executionInfo": {
     "elapsed": 45957,
     "status": "ok",
     "timestamp": 1667663918025,
     "user": {
      "displayName": "Boris Zhestkov",
      "userId": "15589718157134474454"
     },
     "user_tz": -180
    },
    "id": "j2aBvwzyFz18",
    "outputId": "06d14184-f677-46d2-f615-e57a7f6f3590"
   },
   "outputs": [
    {
     "name": "stdout",
     "output_type": "stream",
     "text": [
      "0 tensor([[1.3466]]) tensor([[2.0721]]) tensor([[1.2433]]) tensor([[1.8796]])\n",
      "1 tensor([[1.3159]]) tensor([[2.9819]]) tensor([[1.0919]]) tensor([[3.0629]])\n",
      "2 tensor([[1.2587]]) tensor([[3.1941]]) tensor([[1.0310]]) tensor([[3.3597]])\n",
      "3 tensor([[1.2172]]) tensor([[3.2818]]) tensor([[1.0102]]) tensor([[3.4508]])\n",
      "4 tensor([[1.1821]]) tensor([[3.3476]]) tensor([[1.0067]]) tensor([[3.4988]])\n",
      "5 tensor([[1.1518]]) tensor([[3.4022]]) tensor([[1.0081]]) tensor([[3.5310]])\n",
      "6 tensor([[1.1259]]) tensor([[3.4480]]) tensor([[1.0096]]) tensor([[3.5567]])\n",
      "7 tensor([[1.1039]]) tensor([[3.4869]]) tensor([[1.0097]]) tensor([[3.5794]])\n",
      "8 tensor([[1.0852]]) tensor([[3.5202]]) tensor([[1.0087]]) tensor([[3.6002]])\n",
      "9 tensor([[1.0691]]) tensor([[3.5490]]) tensor([[1.0067]]) tensor([[3.6193]])\n",
      "10 tensor([[1.0552]]) tensor([[3.5742]]) tensor([[1.0042]]) tensor([[3.6369]])\n",
      "11 tensor([[1.0431]]) tensor([[3.5964]]) tensor([[1.0013]]) tensor([[3.6532]])\n",
      "12 tensor([[1.0325]]) tensor([[3.6161]]) tensor([[0.9982]]) tensor([[3.6681]])\n",
      "13 tensor([[1.0232]]) tensor([[3.6337]]) tensor([[0.9950]]) tensor([[3.6818]])\n",
      "14 tensor([[1.0150]]) tensor([[3.6496]]) tensor([[0.9918]]) tensor([[3.6945]])\n",
      "15 tensor([[1.0077]]) tensor([[3.6639]]) tensor([[0.9887]]) tensor([[3.7063]])\n",
      "16 tensor([[1.0012]]) tensor([[3.6768]]) tensor([[0.9856]]) tensor([[3.7171]])\n",
      "17 tensor([[0.9954]]) tensor([[3.6886]]) tensor([[0.9826]]) tensor([[3.7272]])\n",
      "18 tensor([[0.9902]]) tensor([[3.6995]]) tensor([[0.9796]]) tensor([[3.7366]])\n",
      "19 tensor([[0.9855]]) tensor([[3.7094]]) tensor([[0.9768]]) tensor([[3.7453]])\n"
     ]
    }
   ],
   "source": [
    "model = Model(((1, 100), (100, 1)), activation='sigmoid')\n",
    "optim = Adagrad_full(model)\n",
    "for e in range(20):\n",
    "    for i, (val, t) in enumerate(zip(x, y)):\n",
    "        optim.zero_grad()\n",
    "        pred = model.forward(torch.tensor([[val]]))\n",
    "        loss = mse_loss(t, pred)\n",
    "        grad = d_mse_loss(t, pred)\n",
    "        model.backward(grad)\n",
    "        optim.step()\n",
    "        \n",
    "    print(e, model.forward(torch.tensor([[1.0]])), model.forward(torch.tensor([[2.0]])), \n",
    "          model.forward(torch.tensor([[-1.0]])), model.forward(torch.tensor([[-2.0]]))\n",
    "         )"
   ]
  },
  {
   "cell_type": "code",
   "execution_count": null,
   "metadata": {
    "id": "2QWQyu5NFz1-"
   },
   "outputs": [],
   "source": []
  },
  {
   "cell_type": "code",
   "execution_count": 332,
   "metadata": {},
   "outputs": [
    {
     "name": "stdout",
     "output_type": "stream",
     "text": [
      "x = -5, y_pred = 5.413887977600098, y = 25\n",
      "x = -4, y_pred = 5.553648948669434, y = 16\n",
      "x = -3, y_pred = 5.35898494720459, y = 9\n",
      "x = -2, y_pred = 3.745281934738159, y = 4\n",
      "x = -1, y_pred = 0.9768393039703369, y = 1\n",
      "x = 0, y_pred = -0.08130151033401489, y = 0\n",
      "x = 1, y_pred = 0.9854601621627808, y = 1\n",
      "x = 2, y_pred = 3.709380626678467, y = 4\n",
      "x = 3, y_pred = 5.851874351501465, y = 9\n",
      "x = 4, y_pred = 6.875485420227051, y = 16\n",
      "x = 5, y_pred = 7.402181625366211, y = 25\n"
     ]
    }
   ],
   "source": [
    "for i in range(-5,6):\n",
    "    print(f'x = {i}, y_pred = {model.forward(torch.tensor([[float(i)]]))[0][0].numpy()}, y = {i**2}')\n",
    "    #Где учили, там и выдает более ли менее приемлемые результаты. А за пределами совсем мимо."
   ]
  },
  {
   "cell_type": "code",
   "execution_count": null,
   "metadata": {},
   "outputs": [],
   "source": []
  }
 ],
 "metadata": {
  "colab": {
   "collapsed_sections": [],
   "provenance": []
  },
  "kernelspec": {
   "display_name": "Python 3 (ipykernel)",
   "language": "python",
   "name": "python3"
  },
  "language_info": {
   "codemirror_mode": {
    "name": "ipython",
    "version": 3
   },
   "file_extension": ".py",
   "mimetype": "text/x-python",
   "name": "python",
   "nbconvert_exporter": "python",
   "pygments_lexer": "ipython3",
   "version": "3.9.13"
  }
 },
 "nbformat": 4,
 "nbformat_minor": 1
}
